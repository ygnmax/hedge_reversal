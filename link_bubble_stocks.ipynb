{
 "cells": [
  {
   "cell_type": "code",
   "execution_count": 1,
   "id": "e341be3d-8041-4892-bdb6-e62bdf20164d",
   "metadata": {},
   "outputs": [],
   "source": [
    "import pandas as pd"
   ]
  },
  {
   "cell_type": "code",
   "execution_count": 2,
   "id": "4903686e-5ba5-40a9-8d14-37fe5851e580",
   "metadata": {},
   "outputs": [
    {
     "data": {
      "text/html": [
       "<div>\n",
       "<style scoped>\n",
       "    .dataframe tbody tr th:only-of-type {\n",
       "        vertical-align: middle;\n",
       "    }\n",
       "\n",
       "    .dataframe tbody tr th {\n",
       "        vertical-align: top;\n",
       "    }\n",
       "\n",
       "    .dataframe thead th {\n",
       "        text-align: right;\n",
       "    }\n",
       "</style>\n",
       "<table border=\"1\" class=\"dataframe\">\n",
       "  <thead>\n",
       "    <tr style=\"text-align: right;\">\n",
       "      <th></th>\n",
       "      <th>Name</th>\n",
       "      <th>Ticker</th>\n",
       "      <th>SecurityID</th>\n",
       "      <th>Wiki_Link</th>\n",
       "      <th>During_Bubble</th>\n",
       "    </tr>\n",
       "  </thead>\n",
       "  <tbody>\n",
       "    <tr>\n",
       "      <th>0</th>\n",
       "      <td>3Com</td>\n",
       "      <td>COMS</td>\n",
       "      <td>111020.0</td>\n",
       "      <td>https://en.wikipedia.org/wiki/3Com</td>\n",
       "      <td>Shares soared after announcing the corporate ...</td>\n",
       "    </tr>\n",
       "    <tr>\n",
       "      <th>1</th>\n",
       "      <td>360networks</td>\n",
       "      <td>TSIX</td>\n",
       "      <td>111030.0</td>\n",
       "      <td>https://en.wikipedia.org/wiki/360networks</td>\n",
       "      <td>A fiber optic company that had a market capit...</td>\n",
       "    </tr>\n",
       "    <tr>\n",
       "      <th>2</th>\n",
       "      <td>AboveNet (formerly Metromedia Fiber Network)</td>\n",
       "      <td>MFNX</td>\n",
       "      <td>107497.0</td>\n",
       "      <td>https://en.wikipedia.org/wiki/AboveNet</td>\n",
       "      <td>Its stock rose 32% on the day it announced a ...</td>\n",
       "    </tr>\n",
       "    <tr>\n",
       "      <th>3</th>\n",
       "      <td>Actua Corporation (formerly Internet Capital G...</td>\n",
       "      <td>ICGE</td>\n",
       "      <td>106314.0</td>\n",
       "      <td>https://en.wikipedia.org/wiki/Actua_Corporation</td>\n",
       "      <td>A company that invested in B2B e-commerce com...</td>\n",
       "    </tr>\n",
       "    <tr>\n",
       "      <th>4</th>\n",
       "      <td>Airspan Networks</td>\n",
       "      <td>AIRN</td>\n",
       "      <td>101174.0</td>\n",
       "      <td>https://en.wikipedia.org/wiki/Airspan_Networks</td>\n",
       "      <td>A wireless firm; in July 2000, its stock pric...</td>\n",
       "    </tr>\n",
       "  </tbody>\n",
       "</table>\n",
       "</div>"
      ],
      "text/plain": [
       "                                                Name Ticker  SecurityID  \\\n",
       "0                                               3Com   COMS    111020.0   \n",
       "1                                        360networks   TSIX    111030.0   \n",
       "2       AboveNet (formerly Metromedia Fiber Network)   MFNX    107497.0   \n",
       "3  Actua Corporation (formerly Internet Capital G...   ICGE    106314.0   \n",
       "4                                   Airspan Networks   AIRN    101174.0   \n",
       "\n",
       "                                         Wiki_Link  \\\n",
       "0               https://en.wikipedia.org/wiki/3Com   \n",
       "1        https://en.wikipedia.org/wiki/360networks   \n",
       "2           https://en.wikipedia.org/wiki/AboveNet   \n",
       "3  https://en.wikipedia.org/wiki/Actua_Corporation   \n",
       "4   https://en.wikipedia.org/wiki/Airspan_Networks   \n",
       "\n",
       "                                       During_Bubble  \n",
       "0   Shares soared after announcing the corporate ...  \n",
       "1   A fiber optic company that had a market capit...  \n",
       "2   Its stock rose 32% on the day it announced a ...  \n",
       "3   A company that invested in B2B e-commerce com...  \n",
       "4   A wireless firm; in July 2000, its stock pric...  "
      ]
     },
     "execution_count": 2,
     "metadata": {},
     "output_type": "execute_result"
    }
   ],
   "source": [
    "df_firms = pd.read_excel(\"./data/firms.xlsx\", sheet_name = \"dotcom_firms\")\n",
    "df_firms.head()"
   ]
  },
  {
   "cell_type": "code",
   "execution_count": null,
   "id": "9bc7eb97-2ea6-478d-b1ba-eeb7d9882574",
   "metadata": {},
   "outputs": [],
   "source": [
    "df_option_crsp = pd.read_excel(\"firms.xlsx\", sheet_name = \"dotcom_firms\")\n"
   ]
  }
 ],
 "metadata": {
  "kernelspec": {
   "display_name": "Python 3 (ipykernel)",
   "language": "python",
   "name": "python3"
  },
  "language_info": {
   "codemirror_mode": {
    "name": "ipython",
    "version": 3
   },
   "file_extension": ".py",
   "mimetype": "text/x-python",
   "name": "python",
   "nbconvert_exporter": "python",
   "pygments_lexer": "ipython3",
   "version": "3.9.12"
  }
 },
 "nbformat": 4,
 "nbformat_minor": 5
}
