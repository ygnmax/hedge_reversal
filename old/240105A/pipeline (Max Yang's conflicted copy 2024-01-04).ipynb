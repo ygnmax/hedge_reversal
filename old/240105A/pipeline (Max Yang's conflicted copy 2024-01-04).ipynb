{
 "cells": [
  {
   "cell_type": "code",
   "execution_count": 1,
   "id": "7443b60a-2ea3-4236-a525-3bb623386488",
   "metadata": {},
   "outputs": [],
   "source": [
    "import pandas as pd\n",
    "import numpy as np\n",
    "\n",
    "import wrds\n",
    "\n",
    "import os\n",
    "from dotenv import dotenv_values\n",
    "config = dotenv_values(\".env\")\n",
    "\n",
    "from mylib.load_from_wrds import query_options, query_stock, query_dividend, query_zero_curve\n",
    "from mylib.rates_tools import create_yield_curve, merge_interest\n",
    "from mylib.functions_greeks import bs_delta\n",
    "\n",
    "%load_ext autoreload\n",
    "%autoreload 2"
   ]
  },
  {
   "cell_type": "code",
   "execution_count": 2,
   "id": "1991f740-5a05-4873-8eef-5db5e1794fb9",
   "metadata": {},
   "outputs": [],
   "source": [
    "secid = 113993\n",
    "name = \"Game Stop\"\n",
    "ticker = \"GME\"\n",
    "\n",
    "startdate = '2019-01-01'\n",
    "enddate = '2022-12-31'"
   ]
  },
  {
   "cell_type": "markdown",
   "id": "1aa216b1-8671-4b6c-87fb-1359a00ca47a",
   "metadata": {},
   "source": [
    "# Download data from WRDS and create option dataframe"
   ]
  },
  {
   "cell_type": "code",
   "execution_count": 3,
   "id": "1b52b2cf-1d3d-4998-8eac-2f6bb9d2dcdf",
   "metadata": {
    "tags": []
   },
   "outputs": [
    {
     "name": "stdout",
     "output_type": "stream",
     "text": [
      "Loading library list...\n",
      "Done\n",
      "CPU times: user 5.82 s, sys: 2.41 s, total: 8.24 s\n",
      "Wall time: 6min 34s\n"
     ]
    }
   ],
   "source": [
    "%%time\n",
    "\n",
    "db = wrds.Connection(wrds_username = config['WRDS_USER'])\n",
    "\n",
    "df_option = query_options(db, secid, startdate=startdate, enddate=enddate)\n",
    "df_stock = query_stock(db, secid, startdate=startdate, enddate=enddate)\n",
    "df_dividend = query_dividend(db, secid, startdate=startdate, enddate=enddate)\n",
    "zero_curve = query_zero_curve(db, startdate=startdate, enddate=enddate)\n",
    "\n",
    "db.close()"
   ]
  },
  {
   "cell_type": "markdown",
   "id": "2f30de28-b202-4ffd-90ce-0dee5d07b23e",
   "metadata": {},
   "source": [
    "Add interest rates and underlying info to options dataframe:"
   ]
  },
  {
   "cell_type": "code",
   "execution_count": 4,
   "id": "79e640eb-bd49-4a5d-aaaf-2ae5e5e74c33",
   "metadata": {},
   "outputs": [
    {
     "name": "stdout",
     "output_type": "stream",
     "text": [
      "CPU times: user 2.24 s, sys: 1.22 s, total: 3.47 s\n",
      "Wall time: 3.49 s\n"
     ]
    }
   ],
   "source": [
    "%%time\n",
    "\n",
    "df_rate = create_yield_curve(zero_curve, max_days=1500) \n",
    "df = merge_interest(df_option, df_rate)\n",
    "df = df.merge(df_stock, how='inner', on=['date', 'secid'])\n",
    "df['M0'] = df['close'] / df['K']"
   ]
  },
  {
   "cell_type": "markdown",
   "id": "e044bf2c-3b08-4144-ac0f-ae6ad1cf6fda",
   "metadata": {},
   "source": [
    "# Construct tracer options"
   ]
  },
  {
   "cell_type": "code",
   "execution_count": 5,
   "id": "cf0b9e53-5880-4bbe-96fb-cf15adc39540",
   "metadata": {
    "tags": []
   },
   "outputs": [],
   "source": [
    "def construct_tracer(df, cp_flag, target_tau):\n",
    "    df_select = df[df['cp_flag'] == cp_flag]\n",
    "\n",
    "    d_list = []\n",
    "    close_list = []\n",
    "    V_interp_list = []\n",
    "    IV_interp_list = []\n",
    "    \n",
    "    for d, dfg in df_select.groupby('date'):\n",
    "        target_K = dfg.iloc[0]['close']\n",
    "\n",
    "        upper_left  = dfg[(dfg['tau_days'] <= target_tau) & (dfg['K'] >= target_K)] \n",
    "        upper_right = dfg[(dfg['tau_days'] >= target_tau) & (dfg['K'] >= target_K)] \n",
    "        lower_left  = dfg[(dfg['tau_days'] <= target_tau) & (dfg['K'] <= target_K)] \n",
    "        lower_right = dfg[(dfg['tau_days'] >= target_tau) & (dfg['K'] <= target_K)] \n",
    "\n",
    "        \n",
    "        #First interpolate strikes above ATM, then below ATM\n",
    "        upper_left  = upper_left[upper_left['tau_days'] == upper_left['tau_days'].max()]\n",
    "        upper_left  = upper_left[upper_left['K'] == upper_left['K'].min()]        \n",
    "        upper_right = upper_right[upper_right['tau_days'] == upper_right['tau_days'].min()]\n",
    "        upper_right = upper_right[upper_right['K'] == upper_right['K'].min()]\n",
    "        lower_left  = lower_left[lower_left['tau_days'] == lower_left['tau_days'].max()]\n",
    "        lower_left  = lower_left[lower_left['K'] == lower_left['K'].max()]   \n",
    "        lower_right = lower_right[lower_right['tau_days'] == lower_right['tau_days'].min()]\n",
    "        lower_right = lower_right[lower_right['K'] == lower_right['K'].max()]   \n",
    "\n",
    "        V, IV, K = [], [], []\n",
    "        for l, r in zip([upper_left, lower_left], [upper_right, lower_right]):\n",
    "            if r.iloc[0]['tau_days'] > l.iloc[0]['tau_days']:\n",
    "                weight_right = (target_tau - l.iloc[0]['tau_days']) / (r.iloc[0]['tau_days'] - l.iloc[0]['tau_days'])\n",
    "            else:\n",
    "                weight_right = 1     \n",
    "            # if the difference in the numerator is zero then any weight would do it as the options are the same\n",
    "            \n",
    "            V.append((1 - weight_right) * l.iloc[0]['V0'] + weight_right * r.iloc[0]['V0'])\n",
    "            IV.append((1 - weight_right) * l.iloc[0]['impl_volatility'] + weight_right * r.iloc[0]['impl_volatility'])\n",
    "            K.append((1 - weight_right) * l.iloc[0]['K'] + weight_right * r.iloc[0]['K'])\n",
    "\n",
    "        if K[0] > K[1]:\n",
    "            weight_upper = (target_K - K[1]) / (K[0] - K[1])\n",
    "        else:\n",
    "            weight_upper = 1\n",
    "\n",
    "        d_list.append(d)\n",
    "        close_list.append(target_K)\n",
    "        V_interp_list.append((1-weight_upper) * V[0] + weight_upper * V[1])\n",
    "        IV_interp_list.append((1-weight_upper) * IV[0] + weight_upper * IV[1]) \n",
    "\n",
    "        \n",
    "    df_out = pd.DataFrame({'date': d_list, 'close': close_list, 'V_interp': V_interp_list, 'IV_interp': IV_interp_list})\n",
    "    df_out['K'] = df_out['close']\n",
    "    df_out['cp_flag'] = cp_flag\n",
    "    df_out['tau_days'] = target_tau\n",
    "    return df_out"
   ]
  },
  {
   "cell_type": "code",
   "execution_count": 6,
   "id": "1493ded8-36c1-490c-b6cf-6d5d32af403e",
   "metadata": {},
   "outputs": [
    {
     "name": "stdout",
     "output_type": "stream",
     "text": [
      "CPU times: user 34.7 s, sys: 448 ms, total: 35.1 s\n",
      "Wall time: 35.5 s\n"
     ]
    }
   ],
   "source": [
    "%%time\n",
    "\n",
    "df_tracer = pd.DataFrame()\n",
    "for target_tau in [30, 60, 90, 120, 150, 180]:\n",
    "    for cp_flag in ['C', 'P']:\n",
    "        df_tmp = construct_tracer(df, cp_flag, target_tau)\n",
    "        df_tracer = pd.concat([df_tracer, df_tmp])"
   ]
  },
  {
   "cell_type": "code",
   "execution_count": null,
   "id": "ca7852bf-194a-4a6c-a0ac-7b6236eed07c",
   "metadata": {},
   "outputs": [],
   "source": [
    "df_tracer = merge_interest(df_tracer, df_rate)\n",
    "df_tracer.head()"
   ]
  },
  {
   "cell_type": "markdown",
   "id": "8fb43c6b-dd86-47bf-b21d-83df55c37e92",
   "metadata": {},
   "source": [
    "# Calculate implied dividend rate"
   ]
  },
  {
   "cell_type": "code",
   "execution_count": 13,
   "id": "c456ad2f-c82e-472a-8714-8cf5494c7514",
   "metadata": {},
   "outputs": [],
   "source": [
    "def calc_syn_implied_div(df):\n",
    "    ## implied dividend\n",
    "    \n",
    "    df_c = df[(df['cp_flag'] == 'C')]\n",
    "    df_p = df[(df['cp_flag'] == 'P')]\n",
    "    df_calc_rate = df_c[['date', 'K', 'tau_days', 'V_interp', 'IV_interp']].merge(\n",
    "                   df_p[['date', 'K', 'tau_days', 'V_interp', 'IV_interp', 'short_rate', 'r']], on=['date', 'K', 'tau_days'], \n",
    "                   suffixes=['_C', '_P'])\n",
    "\n",
    "    \n",
    "    df_implied_rate = pd.DataFrame()\n",
    "    i = 0\n",
    "    for idx, group in df_calc_rate.groupby(['date', 'tau_days']):\n",
    "        implied_d = []        \n",
    "\n",
    "        for j, row in group.iterrows():\n",
    "            date = row.loc['date']\n",
    "            expiration = row.loc['tau_days']\n",
    "            S = row['K']\n",
    "            K = row['K']\n",
    "            T = row['tau_days']/360.0\n",
    "            IV_0 = (row['IV_interp_C'] + row['IV_interp_P']) / 2.0\n",
    "            r_0 = row['r']\n",
    "\n",
    "            CPop = row['V_interp_C'] - max(S - K, 0)\n",
    "            PPop = row['V_interp_P'] - max(K - S, 0)\n",
    "            d_0 = (-(CPop - PPop - r_0 * K * T)/(S * T))\n",
    "            c_d_0 = 1/T * np.log((-(CPop - PPop)-(K-S)+np.exp(r_0 * T) * K)/S)\n",
    "\n",
    "        df_implied_rate.loc[i,'date'] = idx[0] \n",
    "        df_implied_rate.loc[i,'tau_days'] = idx[1]\n",
    "        df_implied_rate.loc[i,'impl_div0'] = d_0\n",
    "        df_implied_rate.loc[i,'impl_cdiv0'] = c_d_0\n",
    "        df_implied_rate.loc[i,'K'] = np.unique(df_calc_rate.loc[(df_calc_rate['date'] == idx[0]) & (df_calc_rate['tau_days'] == idx[1]), 'K'].values)[0]\n",
    "        i += 1\n",
    "    \n",
    "    df_implied_rate['impl_div0'] = df_implied_rate['impl_div0'].fillna(value=0)\n",
    "    df_implied_rate['impl_cdiv0'] = df_implied_rate['impl_cdiv0'].fillna(value=0)\n",
    "\n",
    "    df_out = df.merge(df_implied_rate[['date', 'tau_days', 'impl_div0','impl_cdiv0']], on = ['date', 'tau_days'], how = 'left')\n",
    "    df_out['impl_div0'] = df_out['impl_div0'].fillna(value=0)\n",
    "    df_out['impl_cdiv0'] = df_out['impl_cdiv0'].fillna(value=0)\n",
    "    return df_out"
   ]
  },
  {
   "cell_type": "code",
   "execution_count": 48,
   "id": "ddde0f83-794e-4654-850f-69c30f235a92",
   "metadata": {},
   "outputs": [
    {
     "name": "stdout",
     "output_type": "stream",
     "text": [
      "Implied dividend 113993 done\n",
      "CPU times: user 3.1 s, sys: 35.8 ms, total: 3.13 s\n",
      "Wall time: 3.14 s\n"
     ]
    }
   ],
   "source": [
    "%%time\n",
    "\n",
    "## calculate implied dividend\n",
    "df_syn = calc_syn_implied_div(df_tracer)\n",
    "df_syn['tau'] = df_syn['tau_days'] / 360.\n",
    "\n",
    "print('Implied dividend '+ str(secid) + ' done')"
   ]
  },
  {
   "cell_type": "code",
   "execution_count": 49,
   "id": "45a3530b-eb4c-4e20-be60-c4280c82315d",
   "metadata": {},
   "outputs": [],
   "source": [
    "df_syn_C = df_syn.loc[(df_syn['tau_days'] == 180) & (df_syn['cp_flag'] == 'C'), :]\n",
    "df_syn_P = df_syn.loc[(df_syn['tau_days'] == 180) & (df_syn['cp_flag'] == 'P'), :]\n"
   ]
  },
  {
   "cell_type": "code",
   "execution_count": 50,
   "id": "9afc2a04-e613-40de-949a-b16892fcfa8d",
   "metadata": {},
   "outputs": [
    {
     "data": {
      "text/plain": [
       "[<matplotlib.lines.Line2D at 0x168699f40>]"
      ]
     },
     "execution_count": 50,
     "metadata": {},
     "output_type": "execute_result"
    },
    {
     "data": {
      "image/png": "[encoded data removed]",
      "text/plain": [
       "<Figure size 432x288 with 1 Axes>"
      ]
     },
     "metadata": {
      "needs_background": "light"
     },
     "output_type": "display_data"
    }
   ],
   "source": [
    "import matplotlib.pyplot as plt\n",
    "plt.plot(df_syn_C['date'], df_syn_C['impl_cdiv0'])"
   ]
  },
  {
   "cell_type": "code",
   "execution_count": 51,
   "id": "c7352a52-006b-40a4-a139-9e0bf62b7d29",
   "metadata": {},
   "outputs": [
    {
     "data": {
      "text/plain": [
       "[<matplotlib.lines.Line2D at 0x16888bf10>]"
      ]
     },
     "execution_count": 51,
     "metadata": {},
     "output_type": "execute_result"
    },
    {
     "data": {
      "image/png": "[encoded data removed]",
      "text/plain": [
       "<Figure size 432x288 with 1 Axes>"
      ]
     },
     "metadata": {
      "needs_background": "light"
     },
     "output_type": "display_data"
    }
   ],
   "source": [
    "plt.plot(df_syn_P['date'], df_syn_P['impl_div0'])"
   ]
  },
  {
   "cell_type": "code",
   "execution_count": 61,
   "id": "52c35da8-b6fd-4752-acad-9838ccba40dc",
   "metadata": {},
   "outputs": [],
   "source": [
    "from mylib.functions_greeks import bs_delta"
   ]
  },
  {
   "cell_type": "code",
   "execution_count": 62,
   "id": "081d8323-3e43-4cdd-afc7-887ee958ffc4",
   "metadata": {},
   "outputs": [
    {
     "data": {
      "text/html": [
       "<div>\n",
       "<style scoped>\n",
       "    .dataframe tbody tr th:only-of-type {\n",
       "        vertical-align: middle;\n",
       "    }\n",
       "\n",
       "    .dataframe tbody tr th {\n",
       "        vertical-align: top;\n",
       "    }\n",
       "\n",
       "    .dataframe thead th {\n",
       "        text-align: right;\n",
       "    }\n",
       "</style>\n",
       "<table border=\"1\" class=\"dataframe\">\n",
       "  <thead>\n",
       "    <tr style=\"text-align: right;\">\n",
       "      <th></th>\n",
       "      <th>date</th>\n",
       "      <th>close</th>\n",
       "      <th>V_interp</th>\n",
       "      <th>IV_interp</th>\n",
       "      <th>K</th>\n",
       "      <th>cp_flag</th>\n",
       "      <th>tau_days</th>\n",
       "      <th>short_rate</th>\n",
       "      <th>r</th>\n",
       "      <th>impl_div0</th>\n",
       "      <th>impl_cdiv0</th>\n",
       "      <th>tau</th>\n",
       "      <th>adjDelta</th>\n",
       "    </tr>\n",
       "  </thead>\n",
       "  <tbody>\n",
       "    <tr>\n",
       "      <th>0</th>\n",
       "      <td>2019-01-02</td>\n",
       "      <td>13.07</td>\n",
       "      <td>0.765200</td>\n",
       "      <td>0.607807</td>\n",
       "      <td>13.07</td>\n",
       "      <td>C</td>\n",
       "      <td>30</td>\n",
       "      <td>0.024478</td>\n",
       "      <td>0.025773</td>\n",
       "      <td>0.356760</td>\n",
       "      <td>0.351586</td>\n",
       "      <td>0.083333</td>\n",
       "      <td>0.473285</td>\n",
       "    </tr>\n",
       "    <tr>\n",
       "      <th>1</th>\n",
       "      <td>2019-01-03</td>\n",
       "      <td>12.97</td>\n",
       "      <td>1.144143</td>\n",
       "      <td>0.612299</td>\n",
       "      <td>12.97</td>\n",
       "      <td>C</td>\n",
       "      <td>30</td>\n",
       "      <td>0.024459</td>\n",
       "      <td>0.025784</td>\n",
       "      <td>-0.399047</td>\n",
       "      <td>-0.405805</td>\n",
       "      <td>0.083333</td>\n",
       "      <td>0.614801</td>\n",
       "    </tr>\n",
       "    <tr>\n",
       "      <th>2</th>\n",
       "      <td>2019-01-04</td>\n",
       "      <td>15.24</td>\n",
       "      <td>1.154800</td>\n",
       "      <td>0.660463</td>\n",
       "      <td>15.24</td>\n",
       "      <td>C</td>\n",
       "      <td>30</td>\n",
       "      <td>0.024428</td>\n",
       "      <td>0.025974</td>\n",
       "      <td>0.099247</td>\n",
       "      <td>0.098867</td>\n",
       "      <td>0.083333</td>\n",
       "      <td>0.525304</td>\n",
       "    </tr>\n",
       "    <tr>\n",
       "      <th>3</th>\n",
       "      <td>2019-01-07</td>\n",
       "      <td>15.48</td>\n",
       "      <td>1.446600</td>\n",
       "      <td>0.681652</td>\n",
       "      <td>15.48</td>\n",
       "      <td>C</td>\n",
       "      <td>30</td>\n",
       "      <td>0.024378</td>\n",
       "      <td>0.026176</td>\n",
       "      <td>-0.336637</td>\n",
       "      <td>-0.341420</td>\n",
       "      <td>0.083333</td>\n",
       "      <td>0.600276</td>\n",
       "    </tr>\n",
       "    <tr>\n",
       "      <th>4</th>\n",
       "      <td>2019-01-08</td>\n",
       "      <td>15.81</td>\n",
       "      <td>1.043886</td>\n",
       "      <td>0.535316</td>\n",
       "      <td>15.81</td>\n",
       "      <td>C</td>\n",
       "      <td>30</td>\n",
       "      <td>0.024416</td>\n",
       "      <td>0.026244</td>\n",
       "      <td>-0.050005</td>\n",
       "      <td>-0.050080</td>\n",
       "      <td>0.083333</td>\n",
       "      <td>0.547134</td>\n",
       "    </tr>\n",
       "    <tr>\n",
       "      <th>...</th>\n",
       "      <td>...</td>\n",
       "      <td>...</td>\n",
       "      <td>...</td>\n",
       "      <td>...</td>\n",
       "      <td>...</td>\n",
       "      <td>...</td>\n",
       "      <td>...</td>\n",
       "      <td>...</td>\n",
       "      <td>...</td>\n",
       "      <td>...</td>\n",
       "      <td>...</td>\n",
       "      <td>...</td>\n",
       "      <td>...</td>\n",
       "    </tr>\n",
       "    <tr>\n",
       "      <th>12091</th>\n",
       "      <td>2022-12-23</td>\n",
       "      <td>20.08</td>\n",
       "      <td>9.004779</td>\n",
       "      <td>1.155642</td>\n",
       "      <td>20.08</td>\n",
       "      <td>P</td>\n",
       "      <td>180</td>\n",
       "      <td>0.039600</td>\n",
       "      <td>0.046990</td>\n",
       "      <td>0.555015</td>\n",
       "      <td>0.490257</td>\n",
       "      <td>0.500000</td>\n",
       "      <td>-0.445374</td>\n",
       "    </tr>\n",
       "    <tr>\n",
       "      <th>12092</th>\n",
       "      <td>2022-12-27</td>\n",
       "      <td>18.20</td>\n",
       "      <td>4.525207</td>\n",
       "      <td>1.152101</td>\n",
       "      <td>18.20</td>\n",
       "      <td>P</td>\n",
       "      <td>180</td>\n",
       "      <td>0.039761</td>\n",
       "      <td>0.047079</td>\n",
       "      <td>-0.055409</td>\n",
       "      <td>-0.055617</td>\n",
       "      <td>0.500000</td>\n",
       "      <td>-0.319049</td>\n",
       "    </tr>\n",
       "    <tr>\n",
       "      <th>12093</th>\n",
       "      <td>2022-12-28</td>\n",
       "      <td>17.92</td>\n",
       "      <td>4.841524</td>\n",
       "      <td>1.169645</td>\n",
       "      <td>17.92</td>\n",
       "      <td>P</td>\n",
       "      <td>180</td>\n",
       "      <td>0.039871</td>\n",
       "      <td>0.047149</td>\n",
       "      <td>0.008778</td>\n",
       "      <td>0.009317</td>\n",
       "      <td>0.500000</td>\n",
       "      <td>-0.331272</td>\n",
       "    </tr>\n",
       "    <tr>\n",
       "      <th>12094</th>\n",
       "      <td>2022-12-29</td>\n",
       "      <td>18.33</td>\n",
       "      <td>4.419737</td>\n",
       "      <td>1.161997</td>\n",
       "      <td>18.33</td>\n",
       "      <td>P</td>\n",
       "      <td>180</td>\n",
       "      <td>0.039950</td>\n",
       "      <td>0.047207</td>\n",
       "      <td>-0.070787</td>\n",
       "      <td>-0.071488</td>\n",
       "      <td>0.500000</td>\n",
       "      <td>-0.314528</td>\n",
       "    </tr>\n",
       "    <tr>\n",
       "      <th>12095</th>\n",
       "      <td>2022-12-30</td>\n",
       "      <td>18.46</td>\n",
       "      <td>4.303100</td>\n",
       "      <td>1.166514</td>\n",
       "      <td>18.46</td>\n",
       "      <td>P</td>\n",
       "      <td>180</td>\n",
       "      <td>0.039973</td>\n",
       "      <td>0.047251</td>\n",
       "      <td>-0.100714</td>\n",
       "      <td>-0.102746</td>\n",
       "      <td>0.500000</td>\n",
       "      <td>-0.307359</td>\n",
       "    </tr>\n",
       "  </tbody>\n",
       "</table>\n",
       "<p>12096 rows × 13 columns</p>\n",
       "</div>"
      ],
      "text/plain": [
       "            date  close  V_interp  IV_interp      K cp_flag  tau_days  \\\n",
       "0     2019-01-02  13.07  0.765200   0.607807  13.07       C        30   \n",
       "1     2019-01-03  12.97  1.144143   0.612299  12.97       C        30   \n",
       "2     2019-01-04  15.24  1.154800   0.660463  15.24       C        30   \n",
       "3     2019-01-07  15.48  1.446600   0.681652  15.48       C        30   \n",
       "4     2019-01-08  15.81  1.043886   0.535316  15.81       C        30   \n",
       "...          ...    ...       ...        ...    ...     ...       ...   \n",
       "12091 2022-12-23  20.08  9.004779   1.155642  20.08       P       180   \n",
       "12092 2022-12-27  18.20  4.525207   1.152101  18.20       P       180   \n",
       "12093 2022-12-28  17.92  4.841524   1.169645  17.92       P       180   \n",
       "12094 2022-12-29  18.33  4.419737   1.161997  18.33       P       180   \n",
       "12095 2022-12-30  18.46  4.303100   1.166514  18.46       P       180   \n",
       "\n",
       "       short_rate         r  impl_div0  impl_cdiv0       tau  adjDelta  \n",
       "0        0.024478  0.025773   0.356760    0.351586  0.083333  0.473285  \n",
       "1        0.024459  0.025784  -0.399047   -0.405805  0.083333  0.614801  \n",
       "2        0.024428  0.025974   0.099247    0.098867  0.083333  0.525304  \n",
       "3        0.024378  0.026176  -0.336637   -0.341420  0.083333  0.600276  \n",
       "4        0.024416  0.026244  -0.050005   -0.050080  0.083333  0.547134  \n",
       "...           ...       ...        ...         ...       ...       ...  \n",
       "12091    0.039600  0.046990   0.555015    0.490257  0.500000 -0.445374  \n",
       "12092    0.039761  0.047079  -0.055409   -0.055617  0.500000 -0.319049  \n",
       "12093    0.039871  0.047149   0.008778    0.009317  0.500000 -0.331272  \n",
       "12094    0.039950  0.047207  -0.070787   -0.071488  0.500000 -0.314528  \n",
       "12095    0.039973  0.047251  -0.100714   -0.102746  0.500000 -0.307359  \n",
       "\n",
       "[12096 rows x 13 columns]"
      ]
     },
     "execution_count": 62,
     "metadata": {},
     "output_type": "execute_result"
    }
   ],
   "source": [
    "df_syn['adjDelta'] = df_syn.apply(lambda row: bs_delta(row['IV_interp'], row['K'], row['K'], row['tau'], row['r'], row['impl_cdiv0'], row['cp_flag']), axis=1)\n",
    "df_syn"
   ]
  },
  {
   "cell_type": "code",
   "execution_count": null,
   "id": "affb90dc-83cd-43c8-8498-95157893c3e4",
   "metadata": {},
   "outputs": [],
   "source": []
  }
 ],
 "metadata": {
  "kernelspec": {
   "display_name": "Python 3 (ipykernel)",
   "language": "python",
   "name": "python3"
  },
  "language_info": {
   "codemirror_mode": {
    "name": "ipython",
    "version": 3
   },
   "file_extension": ".py",
   "mimetype": "text/x-python",
   "name": "python",
   "nbconvert_exporter": "python",
   "pygments_lexer": "ipython3",
   "version": "3.9.12"
  }
 },
 "nbformat": 4,
 "nbformat_minor": 5
}
