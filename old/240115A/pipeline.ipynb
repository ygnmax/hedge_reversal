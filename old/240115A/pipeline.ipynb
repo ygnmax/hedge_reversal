{
 "cells": [
  {
   "cell_type": "code",
   "execution_count": 1,
   "id": "7443b60a-2ea3-4236-a525-3bb623386488",
   "metadata": {},
   "outputs": [],
   "source": [
    "import pandas as pd\n",
    "import numpy as np\n",
    "\n",
    "import wrds\n",
    "\n",
    "from dotenv import dotenv_values\n",
    "config = dotenv_values(\".env\")\n",
    "\n",
    "from mylib.load_from_wrds import query_options_stock, query_zero_curve\n",
    "from mylib.rates_tools import create_yield_curve, merge_interest\n",
    "from mylib.construct_tracer import construct_tracer\n",
    "from mylib.BS_formulas import bs_delta, bs_IV\n",
    "\n",
    "%load_ext autoreload\n",
    "%autoreload 2"
   ]
  },
  {
   "cell_type": "code",
   "execution_count": 2,
   "id": "1991f740-5a05-4873-8eef-5db5e1794fb9",
   "metadata": {},
   "outputs": [],
   "source": [
    "secid = 113993\n",
    "name = \"Game Stop\"\n",
    "ticker = \"GME\"\n",
    "\n",
    "startdate = '2019-01-01'\n",
    "enddate = '2022-12-31'\n",
    "\n",
    "ALLOWED_ADJ_FACTOR_CHANGE = [0.99, 1.01]    #to filter options where adjustment factor changes over lifetime"
   ]
  },
  {
   "cell_type": "markdown",
   "id": "1aa216b1-8671-4b6c-87fb-1359a00ca47a",
   "metadata": {},
   "source": [
    "# Download data from WRDS and do some preliminary cleaning"
   ]
  },
  {
   "cell_type": "code",
   "execution_count": 3,
   "id": "1b52b2cf-1d3d-4998-8eac-2f6bb9d2dcdf",
   "metadata": {
    "tags": []
   },
   "outputs": [
    {
     "name": "stdout",
     "output_type": "stream",
     "text": [
      "Loading library list...\n",
      "Done\n",
      "CPU times: user 5.37 s, sys: 970 ms, total: 6.34 s\n",
      "Wall time: 19.1 s\n"
     ]
    }
   ],
   "source": [
    "%%time\n",
    "\n",
    "db = wrds.Connection(wrds_username=config['WRDS_USER'])\n",
    "\n",
    "df_option = query_options_stock(db, secid, startdate=startdate, enddate=enddate)\n",
    "zero_curve = query_zero_curve(db, startdate=startdate, enddate=enddate)\n",
    "\n",
    "db.close()"
   ]
  },
  {
   "cell_type": "code",
   "execution_count": 4,
   "id": "728cb780-2d17-4fb8-bc5e-567428980360",
   "metadata": {},
   "outputs": [
    {
     "name": "stdout",
     "output_type": "stream",
     "text": [
      "(1208674, 18)\n"
     ]
    },
    {
     "data": {
      "text/html": [
       "<div>\n",
       "<style scoped>\n",
       "    .dataframe tbody tr th:only-of-type {\n",
       "        vertical-align: middle;\n",
       "    }\n",
       "\n",
       "    .dataframe tbody tr th {\n",
       "        vertical-align: top;\n",
       "    }\n",
       "\n",
       "    .dataframe thead th {\n",
       "        text-align: right;\n",
       "    }\n",
       "</style>\n",
       "<table border=\"1\" class=\"dataframe\">\n",
       "  <thead>\n",
       "    <tr style=\"text-align: right;\">\n",
       "      <th></th>\n",
       "      <th>secid</th>\n",
       "      <th>date</th>\n",
       "      <th>exdate</th>\n",
       "      <th>cp_flag</th>\n",
       "      <th>IV0</th>\n",
       "      <th>delta</th>\n",
       "      <th>volume</th>\n",
       "      <th>open_interest</th>\n",
       "      <th>contract_size</th>\n",
       "      <th>tau_days</th>\n",
       "      <th>tau</th>\n",
       "      <th>K</th>\n",
       "      <th>V0</th>\n",
       "      <th>S0</th>\n",
       "      <th>adj_fac0</th>\n",
       "      <th>adj_fac1</th>\n",
       "      <th>M0</th>\n",
       "      <th>open_total_interest</th>\n",
       "    </tr>\n",
       "  </thead>\n",
       "  <tbody>\n",
       "    <tr>\n",
       "      <th>27</th>\n",
       "      <td>113993.0</td>\n",
       "      <td>2019-01-02</td>\n",
       "      <td>2019-01-04</td>\n",
       "      <td>C</td>\n",
       "      <td>NaN</td>\n",
       "      <td>NaN</td>\n",
       "      <td>0.0</td>\n",
       "      <td>0.0</td>\n",
       "      <td>100.0</td>\n",
       "      <td>2</td>\n",
       "      <td>0.005556</td>\n",
       "      <td>7.0</td>\n",
       "      <td>6.025</td>\n",
       "      <td>13.07</td>\n",
       "      <td>2.877128</td>\n",
       "      <td>2.877128</td>\n",
       "      <td>1.867143</td>\n",
       "      <td>92774.0</td>\n",
       "    </tr>\n",
       "    <tr>\n",
       "      <th>28</th>\n",
       "      <td>113993.0</td>\n",
       "      <td>2019-01-02</td>\n",
       "      <td>2019-01-04</td>\n",
       "      <td>C</td>\n",
       "      <td>NaN</td>\n",
       "      <td>NaN</td>\n",
       "      <td>0.0</td>\n",
       "      <td>0.0</td>\n",
       "      <td>100.0</td>\n",
       "      <td>2</td>\n",
       "      <td>0.005556</td>\n",
       "      <td>7.5</td>\n",
       "      <td>5.875</td>\n",
       "      <td>13.07</td>\n",
       "      <td>2.877128</td>\n",
       "      <td>2.877128</td>\n",
       "      <td>1.742667</td>\n",
       "      <td>92774.0</td>\n",
       "    </tr>\n",
       "    <tr>\n",
       "      <th>29</th>\n",
       "      <td>113993.0</td>\n",
       "      <td>2019-01-02</td>\n",
       "      <td>2019-01-04</td>\n",
       "      <td>C</td>\n",
       "      <td>NaN</td>\n",
       "      <td>NaN</td>\n",
       "      <td>0.0</td>\n",
       "      <td>0.0</td>\n",
       "      <td>100.0</td>\n",
       "      <td>2</td>\n",
       "      <td>0.005556</td>\n",
       "      <td>8.0</td>\n",
       "      <td>4.885</td>\n",
       "      <td>13.07</td>\n",
       "      <td>2.877128</td>\n",
       "      <td>2.877128</td>\n",
       "      <td>1.633750</td>\n",
       "      <td>92774.0</td>\n",
       "    </tr>\n",
       "    <tr>\n",
       "      <th>30</th>\n",
       "      <td>113993.0</td>\n",
       "      <td>2019-01-02</td>\n",
       "      <td>2019-01-04</td>\n",
       "      <td>C</td>\n",
       "      <td>NaN</td>\n",
       "      <td>NaN</td>\n",
       "      <td>0.0</td>\n",
       "      <td>0.0</td>\n",
       "      <td>100.0</td>\n",
       "      <td>2</td>\n",
       "      <td>0.005556</td>\n",
       "      <td>8.5</td>\n",
       "      <td>4.305</td>\n",
       "      <td>13.07</td>\n",
       "      <td>2.877128</td>\n",
       "      <td>2.877128</td>\n",
       "      <td>1.537647</td>\n",
       "      <td>92774.0</td>\n",
       "    </tr>\n",
       "    <tr>\n",
       "      <th>31</th>\n",
       "      <td>113993.0</td>\n",
       "      <td>2019-01-02</td>\n",
       "      <td>2019-01-04</td>\n",
       "      <td>C</td>\n",
       "      <td>NaN</td>\n",
       "      <td>NaN</td>\n",
       "      <td>0.0</td>\n",
       "      <td>0.0</td>\n",
       "      <td>100.0</td>\n",
       "      <td>2</td>\n",
       "      <td>0.005556</td>\n",
       "      <td>9.0</td>\n",
       "      <td>3.305</td>\n",
       "      <td>13.07</td>\n",
       "      <td>2.877128</td>\n",
       "      <td>2.877128</td>\n",
       "      <td>1.452222</td>\n",
       "      <td>92774.0</td>\n",
       "    </tr>\n",
       "  </tbody>\n",
       "</table>\n",
       "</div>"
      ],
      "text/plain": [
       "       secid       date     exdate cp_flag  IV0  delta  volume  open_interest  \\\n",
       "27  113993.0 2019-01-02 2019-01-04       C  NaN    NaN     0.0            0.0   \n",
       "28  113993.0 2019-01-02 2019-01-04       C  NaN    NaN     0.0            0.0   \n",
       "29  113993.0 2019-01-02 2019-01-04       C  NaN    NaN     0.0            0.0   \n",
       "30  113993.0 2019-01-02 2019-01-04       C  NaN    NaN     0.0            0.0   \n",
       "31  113993.0 2019-01-02 2019-01-04       C  NaN    NaN     0.0            0.0   \n",
       "\n",
       "    contract_size  tau_days       tau    K     V0     S0  adj_fac0  adj_fac1  \\\n",
       "27          100.0         2  0.005556  7.0  6.025  13.07  2.877128  2.877128   \n",
       "28          100.0         2  0.005556  7.5  5.875  13.07  2.877128  2.877128   \n",
       "29          100.0         2  0.005556  8.0  4.885  13.07  2.877128  2.877128   \n",
       "30          100.0         2  0.005556  8.5  4.305  13.07  2.877128  2.877128   \n",
       "31          100.0         2  0.005556  9.0  3.305  13.07  2.877128  2.877128   \n",
       "\n",
       "          M0  open_total_interest  \n",
       "27  1.867143              92774.0  \n",
       "28  1.742667              92774.0  \n",
       "29  1.633750              92774.0  \n",
       "30  1.537647              92774.0  \n",
       "31  1.452222              92774.0  "
      ]
     },
     "execution_count": 4,
     "metadata": {},
     "output_type": "execute_result"
    }
   ],
   "source": [
    "print(df_option.shape)\n",
    "df_option.head()"
   ]
  },
  {
   "cell_type": "code",
   "execution_count": 5,
   "id": "2980ceb9-4ae4-44d0-b826-fbef8972c7ee",
   "metadata": {},
   "outputs": [
    {
     "data": {
      "text/plain": [
       "(827700, 18)"
      ]
     },
     "execution_count": 5,
     "metadata": {},
     "output_type": "execute_result"
    }
   ],
   "source": [
    "df_option.loc[df_option['date']<'2022-01-01', :].shape"
   ]
  },
  {
   "cell_type": "markdown",
   "id": "a78b9512-2e62-4a5d-acd7-88664d550f28",
   "metadata": {
    "tags": []
   },
   "source": [
    "#### seperate notebook: write a function check the type of dividends and adjust the price to the level after the stock split:\n",
    "\n",
    "!!!\n",
    "option price\n",
    "\n",
    "stock price\n",
    "\n",
    "strike price\n",
    "\n",
    "adjustment factor"
   ]
  },
  {
   "cell_type": "code",
   "execution_count": 6,
   "id": "1d56fc1d-c3a9-473b-9451-14f993c91ad8",
   "metadata": {},
   "outputs": [],
   "source": [
    "def filter_adj_factor_change(df, ALLOWED_ADJ_FACTOR_CHANGE=[0.99, 1.01]):\n",
    "    adj_change = df['adj_fac1'] / df['adj_fac0']\n",
    "    bl = (ALLOWED_ADJ_FACTOR_CHANGE[0] > adj_change) | (adj_change > ALLOWED_ADJ_FACTOR_CHANGE[1])    \n",
    "    print(f'There are {bl.sum()} ({bl.sum()/len(bl)*100:.2f}%) options that are removed due to a large change in adjustment factor.')\n",
    "    \n",
    "    return df[~bl]"
   ]
  },
  {
   "cell_type": "code",
   "execution_count": 7,
   "id": "310c0956-e2c3-4fdc-a556-1462d3f92859",
   "metadata": {},
   "outputs": [
    {
     "name": "stdout",
     "output_type": "stream",
     "text": [
      "There are 128454 (10.63%) options that are removed due to a large change in adjustment factor.\n"
     ]
    }
   ],
   "source": [
    "df_option = filter_adj_factor_change(df_option, ALLOWED_ADJ_FACTOR_CHANGE)"
   ]
  },
  {
   "cell_type": "markdown",
   "id": "2f30de28-b202-4ffd-90ce-0dee5d07b23e",
   "metadata": {},
   "source": [
    "Add interest rates and underlying info to options dataframe:"
   ]
  },
  {
   "cell_type": "code",
   "execution_count": 8,
   "id": "79e640eb-bd49-4a5d-aaaf-2ae5e5e74c33",
   "metadata": {},
   "outputs": [
    {
     "name": "stdout",
     "output_type": "stream",
     "text": [
      "CPU times: user 2.81 s, sys: 2.53 s, total: 5.35 s\n",
      "Wall time: 5.67 s\n"
     ]
    }
   ],
   "source": [
    "%%time\n",
    "\n",
    "df_rate = create_yield_curve(zero_curve, max_days=1500) \n",
    "df = merge_interest(df_option, df_rate)"
   ]
  },
  {
   "cell_type": "code",
   "execution_count": 9,
   "id": "9cab5426-386a-4f64-a30c-2b7fd2d3b5df",
   "metadata": {},
   "outputs": [],
   "source": [
    "def add_next_observation(df):\n",
    "    # adding future values to dataframe\n",
    "    grouped = df.groupby(['secid', 'exdate', 'K', 'cp_flag'])\n",
    "    df['S1'] = grouped['S0'].shift(-1)\n",
    "    df['r1'] = grouped['r'].shift(-1)\n",
    "    df['IV1'] = grouped['IV0'].shift(-1)\n",
    "    df['tau1'] = grouped['tau'].shift(-1)\n",
    "    df['V1'] = grouped['V0'].shift(-1)\n",
    "    return df"
   ]
  },
  {
   "cell_type": "code",
   "execution_count": 10,
   "id": "461d5f43-4393-4b51-a4ea-9805320c811c",
   "metadata": {},
   "outputs": [],
   "source": [
    "df = add_next_observation(df)"
   ]
  },
  {
   "cell_type": "code",
   "execution_count": 11,
   "id": "80bf3e17-b674-4cf8-96cd-cabbcbeef687",
   "metadata": {},
   "outputs": [],
   "source": [
    "def filter_data_pre_tracer(df):\n",
    "    orig_size = len(df)\n",
    "    #-----------------------------------------\n",
    "    # Filter by missing price data\n",
    "    #-----------------------------------------\n",
    "    bl = df['S0'].isnull() | df['V0'].isnull() | df['S1'].isnull() | df['V1'].isnull()\n",
    "    print(f'There are {bl.sum()} ({bl.sum()/len(bl)*100:.2f}%) options that are removed due missing price data.')   \n",
    "    #these are options with zero days to maturity or at the enddate\n",
    "    df = df.loc[~bl]\n",
    "\n",
    "    #-----------------------------------------\n",
    "    # Filter by open_interest\n",
    "    #-----------------------------------------\n",
    "    bl = df['open_interest'].eq(0)\n",
    "    print(f'There are {bl.sum()} ({bl.sum()/len(bl)*100:.2f}%) options that are removed because of zero interest.')   \n",
    "    #these are options with zero days to maturity or at the enddate\n",
    "    df = df.loc[~bl]\n",
    "\n",
    "    #----------------------\n",
    "    #  filter by volume and open interest\n",
    "    #----------------------    \n",
    "    CUTOFF_DAILY_INTEREST = 0.01\n",
    "    bl = df['volume'].eq(0) & df['open_interest'].div(df['open_total_interest']).lt(CUTOFF_DAILY_INTEREST)\n",
    "    print(f'There are {bl.sum()} ({bl.sum()/len(bl)*100:.2f}%) options that are removed due no volume and small open interest.')\n",
    "    df = df[~bl]\n",
    "\n",
    "    n_removed = orig_size - len(df)\n",
    "    print(f'Removed in total: {n_removed} ({n_removed/orig_size*100:.2f}%) of all options. New data size: {len(df)}.') \n",
    "    return df"
   ]
  },
  {
   "cell_type": "code",
   "execution_count": 12,
   "id": "35013fc0-dc1b-4082-97df-62b6e4353d21",
   "metadata": {},
   "outputs": [
    {
     "name": "stdout",
     "output_type": "stream",
     "text": [
      "There are 29308 (2.71%) options that are removed due missing price data.\n",
      "There are 226941 (21.59%) options that are removed because of zero interest.\n",
      "There are 336682 (40.86%) options that are removed due no volume and small open interest.\n",
      "Removed in total: 592931 (54.89%) of all options. New data size: 487289.\n"
     ]
    }
   ],
   "source": [
    "df = filter_data_pre_tracer(df)"
   ]
  },
  {
   "cell_type": "markdown",
   "id": "e044bf2c-3b08-4144-ac0f-ae6ad1cf6fda",
   "metadata": {
    "tags": []
   },
   "source": [
    "# Construct tracer options and calculate implied dividends"
   ]
  },
  {
   "cell_type": "code",
   "execution_count": 13,
   "id": "1493ded8-36c1-490c-b6cf-6d5d32af403e",
   "metadata": {},
   "outputs": [
    {
     "name": "stdout",
     "output_type": "stream",
     "text": [
      "CPU times: user 36.8 s, sys: 468 ms, total: 37.3 s\n",
      "Wall time: 38.1 s\n"
     ]
    }
   ],
   "source": [
    "%%time\n",
    "\n",
    "df_tracer = pd.DataFrame()\n",
    "for target_tau_days in [30, 60, 90, 120, 150, 180]:\n",
    "    for cp_flag in ['C', 'P']:\n",
    "        df_tmp = construct_tracer(df, df_rate, cp_flag, target_tau_days, ALLOWED_ADJ_FACTOR_CHANGE)\n",
    "        df_tracer = pd.concat([df_tracer, df_tmp])"
   ]
  },
  {
   "cell_type": "code",
   "execution_count": 14,
   "id": "c456ad2f-c82e-472a-8714-8cf5494c7514",
   "metadata": {},
   "outputs": [],
   "source": [
    "def calc_implied_div(df_tracer):\n",
    "    df_c = df_tracer[(df_tracer['cp_flag'] == 'C')]\n",
    "    df_p = df_tracer[(df_tracer['cp_flag'] == 'P')]\n",
    "    df = df_c.merge(df_p, on=['date', 'K', 'tau_days'], suffixes=[None, '_P'])\n",
    "    df['impl_div'] = np.maximum(-1/df['tau'] * np.log((df['V0'] - df['V0_P'])/df['K'] + np.exp(-df['r'] * df['tau'])), 0)    \n",
    "    return df[['date', 'tau_days', 'impl_div']]"
   ]
  },
  {
   "cell_type": "code",
   "execution_count": 15,
   "id": "acd7231a-3820-468f-9ded-e18ff878a5c6",
   "metadata": {},
   "outputs": [
    {
     "data": {
      "text/html": [
       "<div>\n",
       "<style scoped>\n",
       "    .dataframe tbody tr th:only-of-type {\n",
       "        vertical-align: middle;\n",
       "    }\n",
       "\n",
       "    .dataframe tbody tr th {\n",
       "        vertical-align: top;\n",
       "    }\n",
       "\n",
       "    .dataframe thead th {\n",
       "        text-align: right;\n",
       "    }\n",
       "</style>\n",
       "<table border=\"1\" class=\"dataframe\">\n",
       "  <thead>\n",
       "    <tr style=\"text-align: right;\">\n",
       "      <th></th>\n",
       "      <th>date</th>\n",
       "      <th>tau_days</th>\n",
       "      <th>impl_div</th>\n",
       "    </tr>\n",
       "  </thead>\n",
       "  <tbody>\n",
       "    <tr>\n",
       "      <th>4920</th>\n",
       "      <td>2022-08-09</td>\n",
       "      <td>180</td>\n",
       "      <td>0.302648</td>\n",
       "    </tr>\n",
       "    <tr>\n",
       "      <th>4921</th>\n",
       "      <td>2022-08-15</td>\n",
       "      <td>180</td>\n",
       "      <td>0.390959</td>\n",
       "    </tr>\n",
       "    <tr>\n",
       "      <th>4922</th>\n",
       "      <td>2022-08-16</td>\n",
       "      <td>180</td>\n",
       "      <td>0.294305</td>\n",
       "    </tr>\n",
       "    <tr>\n",
       "      <th>4923</th>\n",
       "      <td>2022-08-18</td>\n",
       "      <td>180</td>\n",
       "      <td>0.210296</td>\n",
       "    </tr>\n",
       "    <tr>\n",
       "      <th>4924</th>\n",
       "      <td>2022-08-19</td>\n",
       "      <td>180</td>\n",
       "      <td>0.235085</td>\n",
       "    </tr>\n",
       "  </tbody>\n",
       "</table>\n",
       "</div>"
      ],
      "text/plain": [
       "           date  tau_days  impl_div\n",
       "4920 2022-08-09       180  0.302648\n",
       "4921 2022-08-15       180  0.390959\n",
       "4922 2022-08-16       180  0.294305\n",
       "4923 2022-08-18       180  0.210296\n",
       "4924 2022-08-19       180  0.235085"
      ]
     },
     "execution_count": 15,
     "metadata": {},
     "output_type": "execute_result"
    }
   ],
   "source": [
    "## calculate implied dividend\n",
    "df_impl_div = calc_implied_div(df_tracer)\n",
    "df_impl_div.tail()"
   ]
  },
  {
   "cell_type": "code",
   "execution_count": 16,
   "id": "40122533-80c2-4d3c-8ef3-c8301acd5ecb",
   "metadata": {},
   "outputs": [
    {
     "data": {
      "image/png": "[encoded data removed]",
      "text/plain": [
       "<Figure size 432x288 with 1 Axes>"
      ]
     },
     "metadata": {
      "needs_background": "light"
     },
     "output_type": "display_data"
    }
   ],
   "source": [
    "df_impl_div.pivot(index='date', columns='tau_days')['impl_div'][[30, 60]].plot();"
   ]
  },
  {
   "cell_type": "code",
   "execution_count": 17,
   "id": "825206a0-083b-41d2-b18b-1f9acf671612",
   "metadata": {},
   "outputs": [
    {
     "data": {
      "image/png": "[encoded data removed]",
      "text/plain": [
       "<Figure size 432x288 with 2 Axes>"
      ]
     },
     "metadata": {
      "needs_background": "light"
     },
     "output_type": "display_data"
    }
   ],
   "source": [
    "df[['date', 'S0']].drop_duplicates().merge(df_impl_div[df_impl_div['tau_days']==30][['date', 'impl_div']], \n",
    "                                           on='date').set_index('date', drop=True).plot(subplots=True);\n",
    "\n",
    "#!!! check again plot after price adjustment is implemented"
   ]
  },
  {
   "cell_type": "code",
   "execution_count": 18,
   "id": "6a5f6d82-67c9-4a99-8b22-0bacef1ad494",
   "metadata": {},
   "outputs": [],
   "source": [
    "df_tracer = pd.merge(df_tracer, df_impl_div, how='left', on=['date', 'tau_days'])"
   ]
  },
  {
   "cell_type": "markdown",
   "id": "ae961cc5-398b-4b78-9795-f52f16aef80f",
   "metadata": {},
   "source": [
    "# Filter data"
   ]
  },
  {
   "cell_type": "code",
   "execution_count": 19,
   "id": "b92a8cc3-e88a-4c3d-8ef7-89f8cfd88c4a",
   "metadata": {},
   "outputs": [],
   "source": [
    "def filter_data_post_tracer(df):\n",
    "    orig_size = len(df)\n",
    "\n",
    "    #---------------------------------\n",
    "    # Keep out-the-money options only\n",
    "    #---------------------------------\n",
    "    bl = ((df['cp_flag'] == 'C') & (df['M0'] > 1.001)) | ((df['cp_flag'] == 'P') & (df['M0'] < 0.999))\n",
    "    print(f'There are {bl.sum()} ({bl.sum()/len(bl)*100:.2f}%) options that are removed due being in-the-money.')\n",
    "    df = df.loc[~bl]\n",
    "\n",
    "\n",
    "    #--------------------\n",
    "    # Filter by Maturity, part I\n",
    "    #--------------------\n",
    "    bl = df['tau_days'].le(5)\n",
    "    print(f'There are {bl.sum()} ({bl.sum()/len(bl)*100:.2f}%) options that are removed due being too close to expiry.')\n",
    "    df = df[~bl]\n",
    "\n",
    "\n",
    "    #--------------------\n",
    "    # Filter by Maturity, part II\n",
    "    #--------------------\n",
    "    bl = df['tau_days'].gt(252)\n",
    "    print(f'There are {bl.sum()} ({bl.sum()/len(bl)*100:.2f}%) options that are removed due to time to expiry larger than 1 year.')\n",
    "    df = df[~bl]\n",
    "    \n",
    "    \n",
    "    #----------------------------------------------------\n",
    "    #  filter all the option with negative time value\n",
    "    #----------------------------------------------------\n",
    "    bl_c = (df['cp_flag'] == 'C') & (df['S0'] - np.exp(-df['r'] * df['tau']) * df['K'] >= df['V0'])\n",
    "    bl_p = (df['cp_flag'] == 'P') & (np.exp(-df['r'] * df['tau']) * df['K'] - df['S0'] >= df['V0'])\n",
    "    bl = bl_c | bl_p\n",
    "    print(f'There are {bl.sum()} ({bl.sum()/len(bl)*100:.2f}%) options that are removed due negative time value.')   \n",
    "    df = df.loc[~bl]\n",
    "\n",
    "    \n",
    "    n_removed = orig_size - len(df)\n",
    "    print(f'Removed in total: {n_removed} ({n_removed/orig_size*100:.2f}%) of all options. New data size: {len(df)}.') \n",
    "    return df"
   ]
  },
  {
   "cell_type": "code",
   "execution_count": 20,
   "id": "6a7ef7e4-baf7-4523-9d76-62d6be44c2e7",
   "metadata": {},
   "outputs": [
    {
     "name": "stdout",
     "output_type": "stream",
     "text": [
      "There are 147145 (30.20%) options that are removed due being in-the-money.\n",
      "There are 43775 (12.87%) options that are removed due being too close to expiry.\n",
      "There are 15934 (5.38%) options that are removed due to time to expiry larger than 1 year.\n",
      "There are 0 (0.00%) options that are removed due negative time value.\n",
      "Removed in total: 206854 (42.45%) of all options. New data size: 280435.\n"
     ]
    }
   ],
   "source": [
    "df = filter_data_post_tracer(df)"
   ]
  },
  {
   "cell_type": "markdown",
   "id": "20e2054d-34f0-4f28-a11a-83c49015d6ea",
   "metadata": {
    "tags": []
   },
   "source": [
    "# Fill in implied vols and compute deltas"
   ]
  },
  {
   "cell_type": "code",
   "execution_count": 21,
   "id": "082ec564-7d89-4465-8e29-9f2a135ca347",
   "metadata": {},
   "outputs": [
    {
     "name": "stdout",
     "output_type": "stream",
     "text": [
      "CPU times: user 1min 15s, sys: 687 ms, total: 1min 16s\n",
      "Wall time: 1min 17s\n"
     ]
    }
   ],
   "source": [
    "%%time\n",
    "## fill in implied vols\n",
    "df['IV0_is_imputed'] = df['IV0'].isna()\n",
    "df.loc[df['IV0'].isna(), 'IV0'] = df.loc[df['IV0'].isna(), :].apply(lambda x:bs_IV(**x), axis=1)"
   ]
  },
  {
   "cell_type": "code",
   "execution_count": 22,
   "id": "382f0694-aa1b-4445-b8d6-8cc56439f139",
   "metadata": {},
   "outputs": [],
   "source": [
    "## merge implied dividends with options df\n",
    "df_impl_div_wide = df_impl_div.pivot(index='date', columns='tau_days')['impl_div'].ffill(axis=1).bfill(axis=1)\n",
    "df_impl_div_wide[1] = df_impl_div_wide[min(df_impl_div_wide.columns)]\n",
    "max_tau_days = df['tau_days'].max()\n",
    "df_impl_div_wide[max_tau_days] = df_impl_div_wide[max(df_impl_div_wide.columns)]\n",
    "tmp_df = pd.DataFrame(\n",
    "    np.nan, columns=list(set(np.arange(2, max_tau_days)).difference(df_impl_div_wide.columns)), index=df_impl_div_wide.index)\n",
    "df_impl_div_wide = pd.concat([df_impl_div_wide, tmp_df], axis=1)\n",
    "df_impl_div_wide = df_impl_div_wide.reindex(sorted(df_impl_div_wide.columns), axis=1)\n",
    "df_impl_div_wide = df_impl_div_wide.interpolate(axis=1).reset_index()\n",
    "df_impl_div_narrow = pd.melt(df_impl_div_wide, id_vars='date', var_name='tau_days', value_name='impl_div')\n",
    "df = pd.merge(df, df_impl_div_narrow, on=['date', 'tau_days'], how='left')"
   ]
  },
  {
   "cell_type": "code",
   "execution_count": null,
   "id": "6470ce08-831e-437a-be43-e4173d776356",
   "metadata": {},
   "outputs": [],
   "source": []
  },
  {
   "cell_type": "code",
   "execution_count": null,
   "id": "f9cc808d-0fb2-4991-80e0-8001e20c8396",
   "metadata": {},
   "outputs": [],
   "source": []
  },
  {
   "cell_type": "markdown",
   "id": "6859cfde-0da5-43a1-8422-8bca0f201dc2",
   "metadata": {},
   "source": [
    "1) Fill in missing IVs\n",
    "2) add implied dividends to the df data frame\n",
    "3) compute various deltas\n",
    "4) do some scatter plots for the various deltas (on the origianl dataset, and maybe also on the tracer dataset)\n",
    "\n",
    "2 might require some interpolation"
   ]
  },
  {
   "cell_type": "code",
   "execution_count": null,
   "id": "edea896b-6060-4e69-862d-889d66b6db2d",
   "metadata": {},
   "outputs": [],
   "source": []
  },
  {
   "cell_type": "markdown",
   "id": "65fb83f7-4a3d-4284-9d2a-9300401343bf",
   "metadata": {},
   "source": [
    "# Calculate adjusted delta"
   ]
  },
  {
   "cell_type": "code",
   "execution_count": 26,
   "id": "539f36a1-a730-4f78-97d5-66ca575ec201",
   "metadata": {},
   "outputs": [
    {
     "data": {
      "text/html": [
       "<div>\n",
       "<style scoped>\n",
       "    .dataframe tbody tr th:only-of-type {\n",
       "        vertical-align: middle;\n",
       "    }\n",
       "\n",
       "    .dataframe tbody tr th {\n",
       "        vertical-align: top;\n",
       "    }\n",
       "\n",
       "    .dataframe thead th {\n",
       "        text-align: right;\n",
       "    }\n",
       "</style>\n",
       "<table border=\"1\" class=\"dataframe\">\n",
       "  <thead>\n",
       "    <tr style=\"text-align: right;\">\n",
       "      <th></th>\n",
       "      <th>secid</th>\n",
       "      <th>date</th>\n",
       "      <th>exdate</th>\n",
       "      <th>cp_flag</th>\n",
       "      <th>IV0</th>\n",
       "      <th>delta</th>\n",
       "      <th>volume</th>\n",
       "      <th>open_interest</th>\n",
       "      <th>contract_size</th>\n",
       "      <th>tau_days</th>\n",
       "      <th>tau</th>\n",
       "      <th>K</th>\n",
       "      <th>V0</th>\n",
       "      <th>S0</th>\n",
       "      <th>adj_fac0</th>\n",
       "      <th>adj_fac1</th>\n",
       "      <th>M0</th>\n",
       "      <th>open_total_interest</th>\n",
       "      <th>short_rate</th>\n",
       "      <th>r</th>\n",
       "      <th>S1</th>\n",
       "      <th>r1</th>\n",
       "      <th>IV1</th>\n",
       "      <th>tau1</th>\n",
       "      <th>V1</th>\n",
       "      <th>IV0_is_imputed</th>\n",
       "      <th>impl_div</th>\n",
       "      <th>normDelta</th>\n",
       "      <th>adjDelta</th>\n",
       "    </tr>\n",
       "  </thead>\n",
       "  <tbody>\n",
       "    <tr>\n",
       "      <th>0</th>\n",
       "      <td>113993.0</td>\n",
       "      <td>2019-01-02</td>\n",
       "      <td>2019-01-11</td>\n",
       "      <td>C</td>\n",
       "      <td>0.649263</td>\n",
       "      <td>0.397266</td>\n",
       "      <td>312.0</td>\n",
       "      <td>98.0</td>\n",
       "      <td>100.0</td>\n",
       "      <td>9</td>\n",
       "      <td>0.025</td>\n",
       "      <td>13.5</td>\n",
       "      <td>0.355</td>\n",
       "      <td>13.07</td>\n",
       "      <td>2.877128</td>\n",
       "      <td>2.877128</td>\n",
       "      <td>0.968148</td>\n",
       "      <td>92774.0</td>\n",
       "      <td>0.024478</td>\n",
       "      <td>0.024554</td>\n",
       "      <td>12.97</td>\n",
       "      <td>0.024501</td>\n",
       "      <td>0.624000</td>\n",
       "      <td>0.022222</td>\n",
       "      <td>0.27</td>\n",
       "      <td>False</td>\n",
       "      <td>0.067491</td>\n",
       "      <td>0.398198</td>\n",
       "      <td>0.516301</td>\n",
       "    </tr>\n",
       "    <tr>\n",
       "      <th>1</th>\n",
       "      <td>113993.0</td>\n",
       "      <td>2019-01-02</td>\n",
       "      <td>2019-01-11</td>\n",
       "      <td>C</td>\n",
       "      <td>0.710666</td>\n",
       "      <td>0.289622</td>\n",
       "      <td>340.0</td>\n",
       "      <td>65.0</td>\n",
       "      <td>100.0</td>\n",
       "      <td>9</td>\n",
       "      <td>0.025</td>\n",
       "      <td>14.0</td>\n",
       "      <td>0.250</td>\n",
       "      <td>13.07</td>\n",
       "      <td>2.877128</td>\n",
       "      <td>2.877128</td>\n",
       "      <td>0.933571</td>\n",
       "      <td>92774.0</td>\n",
       "      <td>0.024478</td>\n",
       "      <td>0.024554</td>\n",
       "      <td>12.97</td>\n",
       "      <td>0.024501</td>\n",
       "      <td>0.702190</td>\n",
       "      <td>0.022222</td>\n",
       "      <td>0.19</td>\n",
       "      <td>False</td>\n",
       "      <td>0.067491</td>\n",
       "      <td>0.291131</td>\n",
       "      <td>0.518596</td>\n",
       "    </tr>\n",
       "    <tr>\n",
       "      <th>2</th>\n",
       "      <td>113993.0</td>\n",
       "      <td>2019-01-02</td>\n",
       "      <td>2019-01-11</td>\n",
       "      <td>C</td>\n",
       "      <td>0.651098</td>\n",
       "      <td>0.168972</td>\n",
       "      <td>1.0</td>\n",
       "      <td>1.0</td>\n",
       "      <td>100.0</td>\n",
       "      <td>9</td>\n",
       "      <td>0.025</td>\n",
       "      <td>14.5</td>\n",
       "      <td>0.115</td>\n",
       "      <td>13.07</td>\n",
       "      <td>2.877128</td>\n",
       "      <td>2.877128</td>\n",
       "      <td>0.901379</td>\n",
       "      <td>92774.0</td>\n",
       "      <td>0.024478</td>\n",
       "      <td>0.024554</td>\n",
       "      <td>12.97</td>\n",
       "      <td>0.024501</td>\n",
       "      <td>0.756412</td>\n",
       "      <td>0.022222</td>\n",
       "      <td>0.13</td>\n",
       "      <td>False</td>\n",
       "      <td>0.067491</td>\n",
       "      <td>0.170770</td>\n",
       "      <td>0.516371</td>\n",
       "    </tr>\n",
       "  </tbody>\n",
       "</table>\n",
       "</div>"
      ],
      "text/plain": [
       "      secid       date     exdate cp_flag       IV0     delta  volume  \\\n",
       "0  113993.0 2019-01-02 2019-01-11       C  0.649263  0.397266   312.0   \n",
       "1  113993.0 2019-01-02 2019-01-11       C  0.710666  0.289622   340.0   \n",
       "2  113993.0 2019-01-02 2019-01-11       C  0.651098  0.168972     1.0   \n",
       "\n",
       "   open_interest  contract_size tau_days    tau     K     V0     S0  adj_fac0  \\\n",
       "0           98.0          100.0        9  0.025  13.5  0.355  13.07  2.877128   \n",
       "1           65.0          100.0        9  0.025  14.0  0.250  13.07  2.877128   \n",
       "2            1.0          100.0        9  0.025  14.5  0.115  13.07  2.877128   \n",
       "\n",
       "   adj_fac1        M0  open_total_interest  short_rate         r     S1  \\\n",
       "0  2.877128  0.968148              92774.0    0.024478  0.024554  12.97   \n",
       "1  2.877128  0.933571              92774.0    0.024478  0.024554  12.97   \n",
       "2  2.877128  0.901379              92774.0    0.024478  0.024554  12.97   \n",
       "\n",
       "         r1       IV1      tau1    V1  IV0_is_imputed  impl_div  normDelta  \\\n",
       "0  0.024501  0.624000  0.022222  0.27           False  0.067491   0.398198   \n",
       "1  0.024501  0.702190  0.022222  0.19           False  0.067491   0.291131   \n",
       "2  0.024501  0.756412  0.022222  0.13           False  0.067491   0.170770   \n",
       "\n",
       "   adjDelta  \n",
       "0  0.516301  \n",
       "1  0.518596  \n",
       "2  0.516371  "
      ]
     },
     "execution_count": 26,
     "metadata": {},
     "output_type": "execute_result"
    }
   ],
   "source": [
    "### original options\n",
    "df['normDelta'] = df.apply(lambda row: bs_delta(row['IV0'], row['S0'], row['K'], row['tau'], row['r'], 0, row['cp_flag']), axis=1)\n",
    "df.loc[df['delta'].isna(), 'delta'] = df.loc[df['delta'].isna(), 'normDelta'] \n",
    "\n",
    "df['adjDelta'] = df.apply(lambda row: bs_delta(row['IV0'], row['K'], row['K'], row['tau'], row['r'], row['impl_div'], row['cp_flag']), axis=1)\n",
    "df.head(3)"
   ]
  },
  {
   "cell_type": "code",
   "execution_count": 61,
   "id": "52c35da8-b6fd-4752-acad-9838ccba40dc",
   "metadata": {
    "tags": []
   },
   "outputs": [
    {
     "data": {
      "text/html": [
       "<div>\n",
       "<style scoped>\n",
       "    .dataframe tbody tr th:only-of-type {\n",
       "        vertical-align: middle;\n",
       "    }\n",
       "\n",
       "    .dataframe tbody tr th {\n",
       "        vertical-align: top;\n",
       "    }\n",
       "\n",
       "    .dataframe thead th {\n",
       "        text-align: right;\n",
       "    }\n",
       "</style>\n",
       "<table border=\"1\" class=\"dataframe\">\n",
       "  <thead>\n",
       "    <tr style=\"text-align: right;\">\n",
       "      <th></th>\n",
       "      <th>date</th>\n",
       "      <th>S0</th>\n",
       "      <th>IV0</th>\n",
       "      <th>K</th>\n",
       "      <th>cp_flag</th>\n",
       "      <th>tau_days</th>\n",
       "      <th>tau</th>\n",
       "      <th>short_rate</th>\n",
       "      <th>r</th>\n",
       "      <th>V0</th>\n",
       "      <th>V1</th>\n",
       "      <th>impl_div</th>\n",
       "      <th>S1</th>\n",
       "      <th>adjDelta</th>\n",
       "      <th>normDelta</th>\n",
       "    </tr>\n",
       "  </thead>\n",
       "  <tbody>\n",
       "    <tr>\n",
       "      <th>0</th>\n",
       "      <td>2019-01-02</td>\n",
       "      <td>13.07</td>\n",
       "      <td>0.587434</td>\n",
       "      <td>13.07</td>\n",
       "      <td>C</td>\n",
       "      <td>30</td>\n",
       "      <td>0.083333</td>\n",
       "      <td>0.024478</td>\n",
       "      <td>0.025773</td>\n",
       "      <td>0.896292</td>\n",
       "      <td>0.852828</td>\n",
       "      <td>0.067491</td>\n",
       "      <td>12.97</td>\n",
       "      <td>0.525630</td>\n",
       "      <td>0.538817</td>\n",
       "    </tr>\n",
       "    <tr>\n",
       "      <th>2</th>\n",
       "      <td>2019-01-07</td>\n",
       "      <td>15.48</td>\n",
       "      <td>0.672751</td>\n",
       "      <td>15.48</td>\n",
       "      <td>C</td>\n",
       "      <td>30</td>\n",
       "      <td>0.083333</td>\n",
       "      <td>0.024378</td>\n",
       "      <td>0.026176</td>\n",
       "      <td>1.213099</td>\n",
       "      <td>1.247874</td>\n",
       "      <td>0.034692</td>\n",
       "      <td>15.81</td>\n",
       "      <td>0.537227</td>\n",
       "      <td>0.543135</td>\n",
       "    </tr>\n",
       "  </tbody>\n",
       "</table>\n",
       "</div>"
      ],
      "text/plain": [
       "        date     S0       IV0      K cp_flag  tau_days       tau  short_rate  \\\n",
       "0 2019-01-02  13.07  0.587434  13.07       C        30  0.083333    0.024478   \n",
       "2 2019-01-07  15.48  0.672751  15.48       C        30  0.083333    0.024378   \n",
       "\n",
       "          r        V0        V1  impl_div     S1  adjDelta  normDelta  \n",
       "0  0.025773  0.896292  0.852828  0.067491  12.97  0.525630   0.538817  \n",
       "2  0.026176  1.213099  1.247874  0.034692  15.81  0.537227   0.543135  "
      ]
     },
     "execution_count": 61,
     "metadata": {},
     "output_type": "execute_result"
    }
   ],
   "source": [
    "### tracer options\n",
    "\n",
    "df_stk = df_option[['date', 'S0']].drop_duplicates().sort_values(['date'])\n",
    "df_stk['S1'] = df_stk['S0'].shift(-1)\n",
    "\n",
    "df_syn = pd.merge(df_tracer, df_stk[['date', 'S1']], how = 'left', on = 'date') \n",
    "\n",
    "df_syn['adjDelta'] = df_syn.apply(lambda row: bs_delta(row['IV0'], row['K'], row['K'], row['tau'], row['r'], row['impl_div'], row['cp_flag']), axis=1)\n",
    "df_syn['normDelta'] = df_syn.apply(lambda row: bs_delta(row['IV0'], row['K'], row['K'], row['tau'], row['r'], 0, row['cp_flag']), axis=1)\n",
    "\n",
    "\n",
    "# missing values: should be revised later\n",
    "# drop missing values:\n",
    "df_syn = df_syn.loc[~np.isnan(df_syn['IV0']), :]\n",
    "df_syn = df_syn.loc[~np.isnan(df_syn['S1']), :]\n",
    "df_syn = df_syn.loc[~np.isnan(df_syn['V1']), :]\n",
    "df_syn = df_syn.loc[~np.isnan(df_syn['adjDelta']), :]\n",
    "\n",
    "df_syn.head(2)"
   ]
  },
  {
   "cell_type": "markdown",
   "id": "548b37cc-c393-4b02-a77a-b887202e89e2",
   "metadata": {},
   "source": [
    "# normalized"
   ]
  },
  {
   "cell_type": "code",
   "execution_count": null,
   "id": "67e32a87-2476-4bbd-bcaa-a5a336f56e39",
   "metadata": {
    "tags": []
   },
   "outputs": [],
   "source": [
    "s_divisor = df['S0']\n",
    "norm_factor = 100\n",
    "cols = ['S0', 'V0', 'K', 'S1','V1']\n",
    "cols_after = [name + '_n' for name in cols]\n",
    "df[cols_after] = df[cols] / np.expand_dims((s_divisor / norm_factor), axis=1)\n",
    "\n",
    "df.head()"
   ]
  },
  {
   "cell_type": "markdown",
   "id": "f17f5671-97c0-4b38-841d-0d1db8affe9d",
   "metadata": {},
   "source": [
    "# Regression"
   ]
  },
  {
   "cell_type": "code",
   "execution_count": 62,
   "id": "b7b69398-13c2-4fce-9aee-084d22e1d0f0",
   "metadata": {},
   "outputs": [],
   "source": [
    "def func_reg(train, test, weight, delta_var = 'adjDelta'): \n",
    "    \n",
    "    df_train = train.copy()\n",
    "    df_test = test.copy()\n",
    "    df_weight = weight.copy()\n",
    "\n",
    "    delta_hat = pd.Series(index=df_test.index, dtype = 'float64')\n",
    "    dict_output = {}\n",
    "    dict_plot = {}\n",
    "\n",
    "\n",
    "    for optype, group in df_train.groupby(by='cp_flag'):\n",
    "        test_index = df_test.loc[df_test['cp_flag'] == optype].index\n",
    "        dict_coef = {}        \n",
    "\n",
    "        ## add weights\n",
    "        group = pd.merge(group, df_weight, how = 'left', on = 'date')\n",
    "\n",
    "        ## y_train is the change of option price in the training set\n",
    "        y_train = group['V1'] - group['V0'] * group['short_rate']\n",
    "        ## x_train is Delta times the change of stock price in the training set\n",
    "        w_train = group.loc[:, 'weight'].copy()\n",
    "        x_train = group.loc[:, delta_var].copy()\n",
    "        x_train = x_train.multiply(group['S1'] - group['S0'] * group['short_rate'], axis=0).values.reshape(-1,1)\n",
    "        lin = LinearRegression(fit_intercept=False).fit(x_train, y_train, sample_weight = group['weight'])\n",
    "        coef = lin.coef_\n",
    "        \n",
    "        dict_plot[optype + '_x_train'] = x_train\n",
    "        dict_plot[optype + '_y_train'] = y_train\n",
    "        dict_plot[optype + '_w_train'] = w_train\n",
    "        dict_plot[optype + '_coef'] = coef\n",
    "\n",
    "        ## y_hat_test is predicted delta in the test set \n",
    "        if len(df_test[(df_test['cp_flag'] == optype)]) < 1:\n",
    "            print('test set of ' + optype + ' has insufficient observations')\n",
    "            pass\n",
    "        else:\n",
    "            delta_hat.loc[test_index] = lin.predict(df_test.loc[test_index, delta_var].values.reshape(-1,1))\n",
    "\n",
    "            y_test = df_test.loc[test_index, 'V1'] - df_test.loc[test_index, 'V0'] * df_test.loc[test_index, 'short_rate']\n",
    "            x_test = df_test.loc[test_index, delta_var].copy()\n",
    "            x_test = x_test.multiply(df_test.loc[test_index, 'S1'] - df_test.loc[test_index, 'S0'] * df_test.loc[test_index, 'short_rate'], axis=0).values.reshape(-1,1)  \n",
    "\n",
    "            dict_plot[optype + '_x_test'] = x_test\n",
    "            dict_plot[optype + '_y_test'] = y_test\n",
    "            dict_plot[optype + '_predict'] = lin.predict(x_test)   \n",
    "\n",
    "        dict_coef['coef'] = coef\n",
    "        dict_coef['N_train'] = len(group)\n",
    "        dict_coef['days_train'] = len(np.unique(group.date))\n",
    "        dict_coef['N_test'] = len(df_test.loc[test_index])\n",
    "        dict_coef['days_test'] = len(np.unique(df_test.loc[test_index].date))\n",
    "        dict_output[optype] = dict_coef\n",
    "    \n",
    "    return dict_output, dict_plot"
   ]
  },
  {
   "cell_type": "code",
   "execution_count": 63,
   "id": "9fabf037-0728-490e-a569-57a61efaaf99",
   "metadata": {},
   "outputs": [
    {
     "data": {
      "text/html": [
       "<div>\n",
       "<style scoped>\n",
       "    .dataframe tbody tr th:only-of-type {\n",
       "        vertical-align: middle;\n",
       "    }\n",
       "\n",
       "    .dataframe tbody tr th {\n",
       "        vertical-align: top;\n",
       "    }\n",
       "\n",
       "    .dataframe thead th {\n",
       "        text-align: right;\n",
       "    }\n",
       "</style>\n",
       "<table border=\"1\" class=\"dataframe\">\n",
       "  <thead>\n",
       "    <tr style=\"text-align: right;\">\n",
       "      <th></th>\n",
       "      <th>secid</th>\n",
       "      <th>date</th>\n",
       "      <th>exdate</th>\n",
       "      <th>cp_flag</th>\n",
       "      <th>IV0</th>\n",
       "      <th>delta</th>\n",
       "      <th>volume</th>\n",
       "      <th>open_interest</th>\n",
       "      <th>contract_size</th>\n",
       "      <th>tau_days</th>\n",
       "      <th>tau</th>\n",
       "      <th>K</th>\n",
       "      <th>V0</th>\n",
       "      <th>S0</th>\n",
       "      <th>adj_fac0</th>\n",
       "      <th>adj_fac1</th>\n",
       "      <th>M0</th>\n",
       "      <th>open_total_interest</th>\n",
       "      <th>short_rate</th>\n",
       "      <th>r</th>\n",
       "      <th>S1</th>\n",
       "      <th>r1</th>\n",
       "      <th>IV1</th>\n",
       "      <th>tau1</th>\n",
       "      <th>V1</th>\n",
       "      <th>IV0_is_imputed</th>\n",
       "      <th>impl_div</th>\n",
       "      <th>normDelta</th>\n",
       "      <th>adjDelta</th>\n",
       "    </tr>\n",
       "  </thead>\n",
       "  <tbody>\n",
       "    <tr>\n",
       "      <th>0</th>\n",
       "      <td>113993.0</td>\n",
       "      <td>2019-01-02</td>\n",
       "      <td>2019-01-11</td>\n",
       "      <td>C</td>\n",
       "      <td>0.649263</td>\n",
       "      <td>0.397266</td>\n",
       "      <td>312.0</td>\n",
       "      <td>98.0</td>\n",
       "      <td>100.0</td>\n",
       "      <td>9</td>\n",
       "      <td>0.025</td>\n",
       "      <td>13.5</td>\n",
       "      <td>0.355</td>\n",
       "      <td>13.07</td>\n",
       "      <td>2.877128</td>\n",
       "      <td>2.877128</td>\n",
       "      <td>0.968148</td>\n",
       "      <td>92774.0</td>\n",
       "      <td>0.024478</td>\n",
       "      <td>0.024554</td>\n",
       "      <td>12.97</td>\n",
       "      <td>0.024501</td>\n",
       "      <td>0.624000</td>\n",
       "      <td>0.022222</td>\n",
       "      <td>0.27</td>\n",
       "      <td>False</td>\n",
       "      <td>0.067491</td>\n",
       "      <td>0.398198</td>\n",
       "      <td>0.516301</td>\n",
       "    </tr>\n",
       "    <tr>\n",
       "      <th>1</th>\n",
       "      <td>113993.0</td>\n",
       "      <td>2019-01-02</td>\n",
       "      <td>2019-01-11</td>\n",
       "      <td>C</td>\n",
       "      <td>0.710666</td>\n",
       "      <td>0.289622</td>\n",
       "      <td>340.0</td>\n",
       "      <td>65.0</td>\n",
       "      <td>100.0</td>\n",
       "      <td>9</td>\n",
       "      <td>0.025</td>\n",
       "      <td>14.0</td>\n",
       "      <td>0.250</td>\n",
       "      <td>13.07</td>\n",
       "      <td>2.877128</td>\n",
       "      <td>2.877128</td>\n",
       "      <td>0.933571</td>\n",
       "      <td>92774.0</td>\n",
       "      <td>0.024478</td>\n",
       "      <td>0.024554</td>\n",
       "      <td>12.97</td>\n",
       "      <td>0.024501</td>\n",
       "      <td>0.702190</td>\n",
       "      <td>0.022222</td>\n",
       "      <td>0.19</td>\n",
       "      <td>False</td>\n",
       "      <td>0.067491</td>\n",
       "      <td>0.291131</td>\n",
       "      <td>0.518596</td>\n",
       "    </tr>\n",
       "    <tr>\n",
       "      <th>2</th>\n",
       "      <td>113993.0</td>\n",
       "      <td>2019-01-02</td>\n",
       "      <td>2019-01-11</td>\n",
       "      <td>C</td>\n",
       "      <td>0.651098</td>\n",
       "      <td>0.168972</td>\n",
       "      <td>1.0</td>\n",
       "      <td>1.0</td>\n",
       "      <td>100.0</td>\n",
       "      <td>9</td>\n",
       "      <td>0.025</td>\n",
       "      <td>14.5</td>\n",
       "      <td>0.115</td>\n",
       "      <td>13.07</td>\n",
       "      <td>2.877128</td>\n",
       "      <td>2.877128</td>\n",
       "      <td>0.901379</td>\n",
       "      <td>92774.0</td>\n",
       "      <td>0.024478</td>\n",
       "      <td>0.024554</td>\n",
       "      <td>12.97</td>\n",
       "      <td>0.024501</td>\n",
       "      <td>0.756412</td>\n",
       "      <td>0.022222</td>\n",
       "      <td>0.13</td>\n",
       "      <td>False</td>\n",
       "      <td>0.067491</td>\n",
       "      <td>0.170770</td>\n",
       "      <td>0.516371</td>\n",
       "    </tr>\n",
       "  </tbody>\n",
       "</table>\n",
       "</div>"
      ],
      "text/plain": [
       "      secid       date     exdate cp_flag       IV0     delta  volume  \\\n",
       "0  113993.0 2019-01-02 2019-01-11       C  0.649263  0.397266   312.0   \n",
       "1  113993.0 2019-01-02 2019-01-11       C  0.710666  0.289622   340.0   \n",
       "2  113993.0 2019-01-02 2019-01-11       C  0.651098  0.168972     1.0   \n",
       "\n",
       "   open_interest  contract_size tau_days    tau     K     V0     S0  adj_fac0  \\\n",
       "0           98.0          100.0        9  0.025  13.5  0.355  13.07  2.877128   \n",
       "1           65.0          100.0        9  0.025  14.0  0.250  13.07  2.877128   \n",
       "2            1.0          100.0        9  0.025  14.5  0.115  13.07  2.877128   \n",
       "\n",
       "   adj_fac1        M0  open_total_interest  short_rate         r     S1  \\\n",
       "0  2.877128  0.968148              92774.0    0.024478  0.024554  12.97   \n",
       "1  2.877128  0.933571              92774.0    0.024478  0.024554  12.97   \n",
       "2  2.877128  0.901379              92774.0    0.024478  0.024554  12.97   \n",
       "\n",
       "         r1       IV1      tau1    V1  IV0_is_imputed  impl_div  normDelta  \\\n",
       "0  0.024501  0.624000  0.022222  0.27           False  0.067491   0.398198   \n",
       "1  0.024501  0.702190  0.022222  0.19           False  0.067491   0.291131   \n",
       "2  0.024501  0.756412  0.022222  0.13           False  0.067491   0.170770   \n",
       "\n",
       "   adjDelta  \n",
       "0  0.516301  \n",
       "1  0.518596  \n",
       "2  0.516371  "
      ]
     },
     "execution_count": 63,
     "metadata": {},
     "output_type": "execute_result"
    }
   ],
   "source": [
    "df.head(3)"
   ]
  },
  {
   "cell_type": "code",
   "execution_count": null,
   "id": "adb6c382-3680-4fe3-8d15-23264213bcbb",
   "metadata": {},
   "outputs": [],
   "source": []
  },
  {
   "cell_type": "code",
   "execution_count": null,
   "id": "18ca3864-6a5d-42cf-a68f-1711b3c280eb",
   "metadata": {
    "tags": []
   },
   "outputs": [
    {
     "name": "stdout",
     "output_type": "stream",
     "text": [
      "test set of C has insufficient observations\n",
      "test set of C has insufficient observations\n",
      "test set of C has insufficient observations\n"
     ]
    }
   ],
   "source": [
    "%%time\n",
    "from sklearn.linear_model import LinearRegression\n",
    "\n",
    "flag = \"raw\" \n",
    "if flag == \"tracer\":\n",
    "    temp = df_syn.copy()\n",
    "    delta_type = \"adjDelta\"\n",
    "else:\n",
    "    temp = df.copy()\n",
    "    delta_type = \"normDelta\"\n",
    "    \n",
    "    temp = temp.loc[temp['IV0'].notna(), :]\n",
    "    \n",
    "\n",
    "temp['short_rate'] = np.exp(temp['short_rate'])\n",
    "\n",
    "############# Calculating result using pre-bubble data ####################\n",
    "df_MSHE = pd.DataFrame()\n",
    "df_PNL = pd.DataFrame()\n",
    "dict_output = {}\n",
    "dict_plot = {}\n",
    "\n",
    "train_length = 240\n",
    "step = 1\n",
    "wt_exp = [0.99**i for i in range(train_length-1, -1, -1)]\n",
    "\n",
    "all_date = np.unique(temp.loc[:, 'date'])\n",
    "train_date = all_date[0:train_length]\n",
    "test_date = all_date[train_length:]\n",
    "df_test = temp[temp['date'].isin(test_date)]\n",
    "\n",
    "for s in range(int(np.ceil(len(test_date)/step))):\n",
    "    test_date_in = test_date[0:step]\n",
    "    first_test_date = str(test_date_in[0])[:10]\n",
    "    df_train_rolling = temp[temp['date'].isin(train_date)]\n",
    "    df_test_rolling = temp[temp['date'].isin(test_date_in)]\n",
    "    df_weight_rolling = pd.DataFrame({'date':train_date, 'weight':wt_exp})\n",
    "\n",
    "    dict_output_one, dict_plot_one = func_reg(df_train_rolling, df_test_rolling, df_weight_rolling, delta_type)\n",
    "    dict_output[first_test_date] = dict_output_one\n",
    "    dict_plot[str(test_date_in[0])[:10]] = dict_plot_one\n",
    "\n",
    "    train_date = np.concatenate([train_date[step:], test_date[0:step]])\n",
    "    test_date = test_date[step:]\n",
    "    \n",
    "df_coef_ts = pd.DataFrame()\n",
    "\n",
    "for key in dict_output:\n",
    "    df_coef_ts.loc[key, 'date'] = pd.to_datetime(key)\n",
    "    df_coef_ts.loc[key, 'coef_C'] = dict_output[key]['C']['coef']\n",
    "    df_coef_ts.loc[key, 'N_train_C'] = dict_output[key]['C']['N_train']\n",
    "    df_coef_ts.loc[key, 'days_train_C'] = dict_output[key]['C']['days_train']\n",
    "    df_coef_ts.loc[key, 'N_test_C'] = dict_output[key]['C']['N_test']\n",
    "\n",
    "    df_coef_ts.loc[key, 'coef_P'] = dict_output[key]['P']['coef']\n",
    "    df_coef_ts.loc[key, 'N_train_P'] = -dict_output[key]['P']['N_train']\n",
    "    df_coef_ts.loc[key, 'days_train_P'] = dict_output[key]['P']['days_train']\n",
    "    df_coef_ts.loc[key, 'N_test_P'] = dict_output[key]['P']['N_test']   \n",
    "    "
   ]
  },
  {
   "cell_type": "markdown",
   "id": "f4a41fe6-f291-453f-a9cc-347620063630",
   "metadata": {},
   "source": [
    "# plot scatter:"
   ]
  },
  {
   "cell_type": "code",
   "execution_count": null,
   "id": "ee645c53-8533-4866-9b7b-6e562eb01e44",
   "metadata": {},
   "outputs": [],
   "source": [
    "def plot_scatter(dict_plot_input, secid, date_in):\n",
    "    \n",
    "    dict_plot_one = dict_plot_input[date_in]\n",
    "    plt.rc('font', size=25)          # controls default text sizes\n",
    "\n",
    "    fig, axs = plt.subplots(1, 2, figsize=(18,9), sharex=True, sharey=True)\n",
    "    # fig.suptitle(ticker + ' ' + str(i) + ' ' + ids[i].strip() + ' ' + date_in)\n",
    "    plt.setp(axs[:], xlabel= \"Adjusted delta X Change of stock price\")\n",
    "    plt.setp(axs[0], ylabel=\"Change of option price\")\n",
    "    \n",
    "    w_C = dict_plot_one['C_w_train'] * 30\n",
    "    axs[0].scatter(dict_plot_one['C_x_train'], dict_plot_one['C_y_train'], s = w_C)\n",
    "    axs[0].plot(dict_plot_one['C_x_train'], dict_plot_one['C_coef'] * dict_plot_one['C_x_train'], color='tab:orange')\n",
    "    axs[0].scatter(dict_plot_one['C_x_test'], dict_plot_one['C_y_test'], color='tab:red')\n",
    "    axs[0].annotate('Call Coefficient: ' + str(round(dict_plot_one['C_coef'][0], 4)), \n",
    "                    xy=(0, 1), xytext=(12, -12), va='top', xycoords='axes fraction', textcoords='offset points')\n",
    "    axs[0].set_title(\"Call\")\n",
    "    \n",
    "    w_P = dict_plot_one['P_w_train'] * 30\n",
    "    axs[1].scatter(dict_plot_one['P_x_train'], dict_plot_one['P_y_train'], s = w_P)\n",
    "    axs[1].plot(dict_plot_one['P_x_train'], dict_plot_one['P_coef'] * dict_plot_one['P_x_train'], color='tab:orange')\n",
    "    axs[1].scatter(dict_plot_one['P_x_test'], dict_plot_one['P_y_test'], color='tab:red')\n",
    "    axs[1].annotate('Put Coefficient: ' + str(round(dict_plot_one['P_coef'][0], 4)), \n",
    "                    xy=(0, 1), xytext=(12, -12), va='top', xycoords='axes fraction', textcoords='offset points')\n",
    "    axs[1].set_title(\"Put\")   \n",
    "    fig.tight_layout()   \n",
    "    plt.close()\n",
    "    return fig\n",
    "\n",
    "    # scatter_output_path = output_path + 'scatter/' + str(secid) + '/'\n",
    "    # if not os.path.exists(scatter_output_path):\n",
    "    #     os.makedirs(scatter_output_path)\n",
    "    # plt.savefig(scatter_output_path + str(secid) + '_' + ticker + '_' + date_in + '.jpg')  \n",
    "    # plt.close()"
   ]
  },
  {
   "cell_type": "code",
   "execution_count": null,
   "id": "742c8591-7ab3-4229-b787-173fe0fa1f40",
   "metadata": {
    "tags": []
   },
   "outputs": [],
   "source": [
    "import matplotlib.pyplot as plt\n",
    "plot_scatter(dict_plot, secid, '2021-01-21')"
   ]
  },
  {
   "cell_type": "code",
   "execution_count": null,
   "id": "65143b68-b957-4beb-9772-289f85f47cb4",
   "metadata": {},
   "outputs": [],
   "source": [
    "df_syn.head(2)"
   ]
  },
  {
   "cell_type": "markdown",
   "id": "fd0d3ff4-46d7-436d-985c-2db2f1776e6f",
   "metadata": {},
   "source": [
    "# plot coefficient:"
   ]
  },
  {
   "cell_type": "code",
   "execution_count": null,
   "id": "ec201b72-625b-4150-ac45-909baf40ffc7",
   "metadata": {
    "tags": []
   },
   "outputs": [],
   "source": [
    "import matplotlib.pyplot as plt\n",
    "import seaborn as sns\n",
    "import matplotlib.dates as mdates\n",
    "\n",
    "df_syn_impl_div_C60 = df_syn.loc[(df_syn['tau_days'] == 60) & (df_syn['cp_flag'] == 'C'),['date', 'V0', 'impl_div']]   \n",
    "df_syn_impl_div_P60 = df_syn.loc[(df_syn['tau_days'] == 60) & (df_syn['cp_flag'] == 'P'),['date', 'V0', 'impl_div']]   \n",
    "\n",
    "df_coef_ts['dif'] = df_coef_ts['coef_C'] - df_coef_ts['coef_P']\n",
    "df_coef_ts = df_coef_ts.sort_values(['date'])\n",
    "df_coef_ts['coef_C_SMA10'] = df_coef_ts['coef_C'].rolling(10).mean()\n",
    "df_coef_ts['coef_P_SMA10'] = df_coef_ts['coef_P'].rolling(10).mean()\n",
    "df_coef_ts['EWMA10'] = df_coef_ts['dif'].ewm(span=10).mean()\n",
    "df_coef_ts['SMA10'] = df_coef_ts['dif'].rolling(10).mean()\n",
    "\n",
    "df_coef_ts_plot = df_coef_ts.merge(df_syn[['date', 'S0']].drop_duplicates(), how = 'left', on = 'date')\n",
    "df_coef_ts_plot = df_coef_ts_plot.merge(df_syn.loc[(df_syn['tau_days'] == 60) & (df_syn['cp_flag'] == 'C') , ['date', 'IV0']].drop_duplicates(), how = 'left', on = 'date')\n",
    "df_coef_ts_plot.rename(columns={'IV0': 'IV_C60'}, inplace = True)\n",
    "df_coef_ts_plot = df_coef_ts_plot.merge(df_syn.loc[(df_syn['tau_days'] == 60) & (df_syn['cp_flag'] == 'P') , ['date', 'IV0']].drop_duplicates(), how = 'left', on = 'date')\n",
    "df_coef_ts_plot.rename(columns={'IV0': 'IV_P60'}, inplace = True)\n",
    "\n",
    "\n",
    "fig, axs = plt.subplots(3, 1, figsize=(34,15), sharex=True, sharey=False)                \n",
    "axs[0].plot(df_coef_ts_plot.date, df_coef_ts_plot.S0, 'k', label='Adjusted stock price')\n",
    "axs[0].set_ylabel(\"Stock price\", fontsize=20)\n",
    "axs[0].tick_params(axis='y', labelsize=18)    \n",
    "axs[0].legend(loc=2, frameon=False)\n",
    "ax0 = axs[0].twinx()\n",
    "ax0.plot(df_coef_ts_plot.date, df_coef_ts_plot.IV_C60, color = sns.color_palette(\"RdBu\", n_colors=7)[6], linestyle='dashed', label='ATM 60 Days Call Volatility')\n",
    "ax0.plot(df_coef_ts_plot.date, df_coef_ts_plot.IV_P60, color = sns.color_palette(\"RdBu\", n_colors=7)[0], linestyle='dashed', label='ATM 60 Days Put Volatility')\n",
    "ax0.set_ylabel(\"Implied volatility\", fontsize=20) \n",
    "ax0.tick_params(axis='y', labelsize=18)    \n",
    "ax0.set_ylim([0.5, 5]) \n",
    "ax0.legend(loc=1, frameon=False)  \n",
    "\n",
    "axs[1].plot(df_syn_impl_div_C60.date, df_syn_impl_div_C60.V0, color = sns.color_palette(\"RdBu\", n_colors=7)[6], linestyle='dashed', label='ATM 60 Days Call Price')\n",
    "axs[1].plot(df_syn_impl_div_P60.date, df_syn_impl_div_P60.V0, color = sns.color_palette(\"RdBu\", n_colors=7)[0], linestyle='dashed', label='ATM 60 Days Put Price')\n",
    "axs[1].set_ylabel(\"Option price\", fontsize=20)\n",
    "axs[1].tick_params(axis='y', labelsize=18)\n",
    "axs[1].legend(loc=2, frameon=False)\n",
    "ax1 = axs[1].twinx()\n",
    "ax1.plot(df_syn_impl_div_C60.date, df_syn_impl_div_C60.impl_div, color = sns.color_palette(\"RdGy\", n_colors=7)[6], marker = '*', label='Implied Dividend')\n",
    "ax1.set_ylabel(\"Implied dividend rate\", fontsize=20)\n",
    "ax1.tick_params(axis='y', labelsize=18)\n",
    "ax1.set_ylim([0, 1.5]) \n",
    "ax1.legend(loc=1, frameon=False)  \n",
    "\n",
    "#     axs[2].plot(df_coef_ts.date, df_coef_ts.EWMA10, 'bo', label='EWMA 10')\n",
    "#     axs[2].plot(df_coef_ts.date, df_coef_ts.SMA10, 'ro', label='SMA 10') \n",
    "axs[2].plot(df_coef_ts_plot.date, df_coef_ts_plot.coef_C_SMA10, color = sns.color_palette(\"RdBu\", n_colors=7)[6], marker = 'o', label='Call Coefficient')\n",
    "axs[2].plot(df_coef_ts_plot.date, df_coef_ts_plot.coef_P_SMA10, color = sns.color_palette(\"RdBu\", n_colors=7)[0], marker = 'o', label='Put Coefficient') \n",
    "axs[2].set_ylabel(\"Delta coefficient\", fontsize=20)\n",
    "axs[2].tick_params(axis='y', labelsize=18)    \n",
    "# axs[2].set_ylim([0, 2])            \n",
    "axs[2].legend(loc=2, frameon=False)\n",
    "ax2 = axs[2].twinx()\n",
    "ax2.bar(df_coef_ts_plot.date, df_coef_ts_plot.N_train_P, color=(0.5, 0.5, 0.5, 0.1), label = \"Number of Observations in Train: Put\")\n",
    "ax2.bar(df_coef_ts_plot.date, df_coef_ts_plot.N_train_C, color=(0.2, 0.2, 0.2, 0.2), label = \"Number of Observations in Train: Call\")\n",
    "ax2.set_ylabel(\"Number of observations in training\", fontsize=20)  \n",
    "ax2.tick_params(axis='y', labelsize=18)\n",
    "maxlevel = round(max([max(abs(df_coef_ts_plot.N_train_C)), max(abs(df_coef_ts_plot.N_train_P))])/1000)*1000 + 1000\n",
    "ax2.set_ylim([-2, 2]) \n",
    "ax2.legend(loc=1, frameon=False) \n",
    "axs[2].xaxis.set_major_locator(mdates.DayLocator(interval=10))\n",
    "axs[2].set_xlim([pd.to_datetime('2020-02-01'), pd.to_datetime('2021-08-31')])\n",
    "plt.setp(axs[2].get_xticklabels(), rotation=90, fontsize=18)\n",
    "\n",
    "fig.suptitle('Delta coefficients: ' + ticker + ' ' + str(secid) + ' ' + name.strip(), fontsize=16, x = 0.5, y = 0.99)\n",
    "fig.tight_layout()\n",
    "# plt.savefig(output_path + 'coefplot/' + str(secid) + '_' + ticker + '.jpg')\n",
    "# plt.close(fig)"
   ]
  },
  {
   "cell_type": "code",
   "execution_count": null,
   "id": "05d3b962-73ca-4780-b36d-013020ed1e21",
   "metadata": {},
   "outputs": [],
   "source": []
  },
  {
   "cell_type": "code",
   "execution_count": null,
   "id": "6c1f5e3b-9d86-41a6-b644-743be446e64d",
   "metadata": {},
   "outputs": [],
   "source": []
  },
  {
   "cell_type": "code",
   "execution_count": null,
   "id": "652613bf-88a9-4d42-9a3e-47c2d356c959",
   "metadata": {},
   "outputs": [],
   "source": []
  }
 ],
 "metadata": {
  "kernelspec": {
   "display_name": "Python 3 (ipykernel)",
   "language": "python",
   "name": "python3"
  },
  "language_info": {
   "codemirror_mode": {
    "name": "ipython",
    "version": 3
   },
   "file_extension": ".py",
   "mimetype": "text/x-python",
   "name": "python",
   "nbconvert_exporter": "python",
   "pygments_lexer": "ipython3",
   "version": "3.9.12"
  }
 },
 "nbformat": 4,
 "nbformat_minor": 5
}
