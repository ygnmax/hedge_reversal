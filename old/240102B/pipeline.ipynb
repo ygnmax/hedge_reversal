{
 "cells": [
  {
   "cell_type": "code",
   "execution_count": 132,
   "id": "7443b60a-2ea3-4236-a525-3bb623386488",
   "metadata": {},
   "outputs": [
    {
     "name": "stdout",
     "output_type": "stream",
     "text": [
      "The autoreload extension is already loaded. To reload it, use:\n",
      "  %reload_ext autoreload\n"
     ]
    }
   ],
   "source": [
    "import pandas as pd\n",
    "import numpy as np\n",
    "\n",
    "import wrds\n",
    "\n",
    "import os\n",
    "from dotenv import load_dotenv\n",
    "load_dotenv();\n",
    "\n",
    "from mylib.load_from_wrds import query_options, query_stock, query_dividend, query_zero_curve\n",
    "from mylib.rates_tools import create_yield_curve, merge_interest\n",
    "\n",
    "%load_ext autoreload\n",
    "%autoreload 2"
   ]
  },
  {
   "cell_type": "code",
   "execution_count": 133,
   "id": "1991f740-5a05-4873-8eef-5db5e1794fb9",
   "metadata": {},
   "outputs": [],
   "source": [
    "secid = 113993\n",
    "name = \"Game Stop\"\n",
    "ticker = \"GME\"\n",
    "\n",
    "startdate = '2019-01-01'\n",
    "enddate = '2022-12-31'"
   ]
  },
  {
   "cell_type": "markdown",
   "id": "1aa216b1-8671-4b6c-87fb-1359a00ca47a",
   "metadata": {},
   "source": [
    "# Download data from WRDS and create option dataframe"
   ]
  },
  {
   "cell_type": "code",
   "execution_count": 134,
   "id": "1b52b2cf-1d3d-4998-8eac-2f6bb9d2dcdf",
   "metadata": {
    "tags": []
   },
   "outputs": [
    {
     "name": "stdout",
     "output_type": "stream",
     "text": [
      "Loading library list...\n",
      "Done\n",
      "CPU times: user 4.33 s, sys: 2.42 s, total: 6.75 s\n",
      "Wall time: 50.2 s\n"
     ]
    }
   ],
   "source": [
    "%%time\n",
    "\n",
    "db = wrds.Connection(wrds_username=os.getenv('WRDS_USER'))\n",
    "\n",
    "df_option = query_options(db, secid, startdate=startdate, enddate=enddate)\n",
    "df_stock = query_stock(db, secid, startdate=startdate, enddate=enddate)\n",
    "df_dividend = query_dividend(db, secid, startdate=startdate, enddate=enddate)\n",
    "zero_curve = query_zero_curve(db, startdate=startdate, enddate=enddate)\n",
    "\n",
    "db.close()"
   ]
  },
  {
   "cell_type": "markdown",
   "id": "2f30de28-b202-4ffd-90ce-0dee5d07b23e",
   "metadata": {},
   "source": [
    "Add interest rates and underlying info to options dataframe:"
   ]
  },
  {
   "cell_type": "code",
   "execution_count": 142,
   "id": "79e640eb-bd49-4a5d-aaaf-2ae5e5e74c33",
   "metadata": {},
   "outputs": [
    {
     "name": "stdout",
     "output_type": "stream",
     "text": [
      "CPU times: user 1.67 s, sys: 822 ms, total: 2.49 s\n",
      "Wall time: 2.49 s\n"
     ]
    }
   ],
   "source": [
    "%%time\n",
    "\n",
    "df_rate = create_yield_curve(zero_curve, max_days=1500) \n",
    "df = merge_interest(df_option, df_rate)\n",
    "df = df.merge(df_stock, how='inner', on=['date', 'secid'])\n",
    "df['M0'] = df['close'] / df['K']"
   ]
  },
  {
   "cell_type": "markdown",
   "id": "e044bf2c-3b08-4144-ac0f-ae6ad1cf6fda",
   "metadata": {},
   "source": [
    "# Construct tracer options"
   ]
  },
  {
   "cell_type": "code",
   "execution_count": 314,
   "id": "cf0b9e53-5880-4bbe-96fb-cf15adc39540",
   "metadata": {
    "tags": []
   },
   "outputs": [],
   "source": [
    "def construct_tracer(df, cp_flag, target_tau):\n",
    "    df_select = df[df['cp_flag'] == cp_flag]\n",
    "\n",
    "    d_list = []\n",
    "    close_list = []\n",
    "    V_interp_list = []\n",
    "    IV_interp_list = []\n",
    "    \n",
    "    for d, dfg in df_select.groupby('date'):\n",
    "        target_K = dfg.iloc[0]['close']\n",
    "\n",
    "        upper_left  = dfg[(dfg['tau_days'] <= target_tau) & (dfg['K'] >= target_K)] \n",
    "        upper_right = dfg[(dfg['tau_days'] >= target_tau) & (dfg['K'] >= target_K)] \n",
    "        lower_left  = dfg[(dfg['tau_days'] <= target_tau) & (dfg['K'] <= target_K)] \n",
    "        lower_right = dfg[(dfg['tau_days'] >= target_tau) & (dfg['K'] <= target_K)] \n",
    "\n",
    "        \n",
    "        #First interpolate strikes above ATM, then below ATM\n",
    "        upper_left  = upper_left[upper_left['tau_days'] == upper_left['tau_days'].max()]\n",
    "        upper_left  = upper_left[upper_left['K'] == upper_left['K'].min()]        \n",
    "        upper_right = upper_right[upper_right['tau_days'] == upper_right['tau_days'].min()]\n",
    "        upper_right = upper_right[upper_right['K'] == upper_right['K'].min()]\n",
    "        lower_left  = lower_left[lower_left['tau_days'] == lower_left['tau_days'].max()]\n",
    "        lower_left  = lower_left[lower_left['K'] == lower_left['K'].max()]   \n",
    "        lower_right = lower_right[lower_right['tau_days'] == lower_right['tau_days'].min()]\n",
    "        lower_right = lower_right[lower_right['K'] == lower_right['K'].max()]   \n",
    "\n",
    "        V, IV, K = [], [], []\n",
    "        for l, r in zip([upper_left, lower_left], [upper_right, lower_right]):\n",
    "            if r.iloc[0]['tau_days'] > l.iloc[0]['tau_days']:\n",
    "                weight_right = (target_tau - l.iloc[0]['tau_days']) / (r.iloc[0]['tau_days'] - l.iloc[0]['tau_days'])\n",
    "            else:\n",
    "                weight_right = 1     \n",
    "            # if the difference in the numerator is zero then any weight would do it as the options are the same\n",
    "            \n",
    "            V.append((1 - weight_right) * l.iloc[0]['V0'] + weight_right * r.iloc[0]['V0'])\n",
    "            IV.append((1 - weight_right) * l.iloc[0]['impl_volatility'] + weight_right * r.iloc[0]['impl_volatility'])\n",
    "            K.append((1 - weight_right) * l.iloc[0]['K'] + weight_right * r.iloc[0]['K'])\n",
    "\n",
    "        if K[0] > K[1]:\n",
    "            weight_upper = (target_K - K[1]) / (K[0] - K[1])\n",
    "        else:\n",
    "            weight_upper = 1\n",
    "\n",
    "        d_list.append(d)\n",
    "        close_list.append(target_K)\n",
    "        V_interp_list.append((1-weight_upper) * V[0] + weight_upper * V[1])\n",
    "        IV_interp_list.append((1-weight_upper) * IV[0] + weight_upper * IV[1]) \n",
    "\n",
    "        \n",
    "    df_out = pd.DataFrame({'date': d_list, 'close': close_list, 'V_interp': V_interp_list, 'IV_interp': IV_interp_list})\n",
    "    df_out['K'] = df_out['close']\n",
    "    df_out['cp_flag'] = cp_flag\n",
    "    df_out['tau_days'] = target_tau\n",
    "    return df_out"
   ]
  },
  {
   "cell_type": "code",
   "execution_count": 329,
   "id": "1493ded8-36c1-490c-b6cf-6d5d32af403e",
   "metadata": {},
   "outputs": [
    {
     "name": "stdout",
     "output_type": "stream",
     "text": [
      "CPU times: user 21.6 s, sys: 599 ms, total: 22.2 s\n",
      "Wall time: 22 s\n"
     ]
    }
   ],
   "source": [
    "%%time\n",
    "\n",
    "df_tracer = pd.DataFrame()\n",
    "for target_tau in [30, 60, 90, 120, 150, 180]:\n",
    "    for cp_flag in ['C', 'P']:\n",
    "        df_tmp = construct_tracer(df, cp_flag, target_tau)\n",
    "        df_tracer = pd.concat([df_tracer, df_tmp])"
   ]
  },
  {
   "cell_type": "code",
   "execution_count": 331,
   "id": "b100d783-805e-49bf-8a69-14e76417b5ec",
   "metadata": {},
   "outputs": [
    {
     "data": {
      "text/html": [
       "<div>\n",
       "<style scoped>\n",
       "    .dataframe tbody tr th:only-of-type {\n",
       "        vertical-align: middle;\n",
       "    }\n",
       "\n",
       "    .dataframe tbody tr th {\n",
       "        vertical-align: top;\n",
       "    }\n",
       "\n",
       "    .dataframe thead th {\n",
       "        text-align: right;\n",
       "    }\n",
       "</style>\n",
       "<table border=\"1\" class=\"dataframe\">\n",
       "  <thead>\n",
       "    <tr style=\"text-align: right;\">\n",
       "      <th></th>\n",
       "      <th>date</th>\n",
       "      <th>close</th>\n",
       "      <th>V_interp</th>\n",
       "      <th>IV_interp</th>\n",
       "      <th>K</th>\n",
       "      <th>cp_flag</th>\n",
       "      <th>tau_days</th>\n",
       "    </tr>\n",
       "  </thead>\n",
       "  <tbody>\n",
       "    <tr>\n",
       "      <th>1003</th>\n",
       "      <td>2022-12-23</td>\n",
       "      <td>20.08</td>\n",
       "      <td>9.004779</td>\n",
       "      <td>1.155642</td>\n",
       "      <td>20.08</td>\n",
       "      <td>P</td>\n",
       "      <td>180</td>\n",
       "    </tr>\n",
       "    <tr>\n",
       "      <th>1004</th>\n",
       "      <td>2022-12-27</td>\n",
       "      <td>18.20</td>\n",
       "      <td>4.525207</td>\n",
       "      <td>1.152101</td>\n",
       "      <td>18.20</td>\n",
       "      <td>P</td>\n",
       "      <td>180</td>\n",
       "    </tr>\n",
       "    <tr>\n",
       "      <th>1005</th>\n",
       "      <td>2022-12-28</td>\n",
       "      <td>17.92</td>\n",
       "      <td>4.841524</td>\n",
       "      <td>1.169645</td>\n",
       "      <td>17.92</td>\n",
       "      <td>P</td>\n",
       "      <td>180</td>\n",
       "    </tr>\n",
       "    <tr>\n",
       "      <th>1006</th>\n",
       "      <td>2022-12-29</td>\n",
       "      <td>18.33</td>\n",
       "      <td>4.419737</td>\n",
       "      <td>1.161997</td>\n",
       "      <td>18.33</td>\n",
       "      <td>P</td>\n",
       "      <td>180</td>\n",
       "    </tr>\n",
       "    <tr>\n",
       "      <th>1007</th>\n",
       "      <td>2022-12-30</td>\n",
       "      <td>18.46</td>\n",
       "      <td>4.303100</td>\n",
       "      <td>1.166514</td>\n",
       "      <td>18.46</td>\n",
       "      <td>P</td>\n",
       "      <td>180</td>\n",
       "    </tr>\n",
       "  </tbody>\n",
       "</table>\n",
       "</div>"
      ],
      "text/plain": [
       "           date  close  V_interp  IV_interp      K cp_flag  tau_days\n",
       "1003 2022-12-23  20.08  9.004779   1.155642  20.08       P       180\n",
       "1004 2022-12-27  18.20  4.525207   1.152101  18.20       P       180\n",
       "1005 2022-12-28  17.92  4.841524   1.169645  17.92       P       180\n",
       "1006 2022-12-29  18.33  4.419737   1.161997  18.33       P       180\n",
       "1007 2022-12-30  18.46  4.303100   1.166514  18.46       P       180"
      ]
     },
     "execution_count": 331,
     "metadata": {},
     "output_type": "execute_result"
    }
   ],
   "source": [
    "df_tracer.tail()"
   ]
  },
  {
   "cell_type": "markdown",
   "id": "8fb43c6b-dd86-47bf-b21d-83df55c37e92",
   "metadata": {},
   "source": [
    "# Calculate implied dividend rate"
   ]
  },
  {
   "cell_type": "code",
   "execution_count": 10,
   "id": "a9a53292-e16f-4693-b09f-9262540968f8",
   "metadata": {},
   "outputs": [],
   "source": [
    "def calc_syn_implied_div(stkid, df_input):\n",
    "    ## inplied dividend\n",
    "    df = df_input.copy()\n",
    "\n",
    "    df_c = df[(df['CallPut'] == 'C') & (df['IV0'] >=0.00001)]\n",
    "    df_p = df[(df['CallPut'] == 'P') & (df['IV0'] >=0.00001)]\n",
    "    df_calc_rate = df_c[['Date', 'K', 'Maturity', 'V0', 'IV0']].merge(\n",
    "                   df_p[['Date', 'K', 'Maturity', 'V0', 'IV0', 'S0', 'short_rate', 'r']], on=['Date', 'K', 'Maturity'], \n",
    "                   suffixes=['_C', '_P'])\n",
    "    df_calc_rate['diff'] = abs(df_calc_rate['S0'] - df_calc_rate['K'])\n",
    "    if len(df_calc_rate) == 0:\n",
    "        print('No implied dividend '+ str(stkid))\n",
    "\n",
    "        df_implied_rate = df[['Date', 'Expiration']].drop_duplicates()\n",
    "        df_implied_rate['impl_div0'] = 0.0\n",
    "        df_implied_rate['impl_cdiv0'] = 0.0\n",
    "    else:\n",
    "        df_implied_rate = pd.DataFrame()\n",
    "        i = 0\n",
    "        for idx, group in df_calc_rate.groupby(['Date', 'Maturity']):\n",
    "            group = group[group['diff'] == min(group['diff'])]\n",
    "            implied_d = []        \n",
    "\n",
    "            # There may be 2 rows for the smallest difference between S0 and K (above or below) \n",
    "            for j, row in group.iterrows():\n",
    "                date = row.loc['Date']\n",
    "                expiration = row.loc['Maturity']\n",
    "                S = row['S0']\n",
    "                K = row['K']\n",
    "                T = row['Maturity']/360.0\n",
    "                IV_0 = (row['IV0_C'] + row['IV0_P']) / 2.0\n",
    "                r_0 = row['r']\n",
    "\n",
    "                CPop = row['V0_C'] - max(S - K, 0)\n",
    "                PPop = row['V0_P'] - max(K - S, 0)\n",
    "                d_0 = (-(CPop - PPop - r_0 * K * T)/(S * T))\n",
    "                c_d_0 = 1/T * np.log((-(CPop - PPop)-(K-S)+np.exp(r_0 * T) * K)/S)\n",
    "\n",
    "            df_implied_rate.loc[i,'Date'] = idx[0] \n",
    "            df_implied_rate.loc[i,'Expiration'] = idx[1]\n",
    "            df_implied_rate.loc[i,'impl_div0'] = d_0\n",
    "            df_implied_rate.loc[i,'impl_cdiv0'] = c_d_0\n",
    "            df_implied_rate.loc[i,'S0'] = np.unique(df_calc_rate.loc[(df_calc_rate['Date'] == idx[0]) & (df_calc_rate['Expiration'] == idx[1]), 'S0'].values)[0]\n",
    "            i += 1\n",
    "    \n",
    "    df_implied_rate['impl_div0'] = df_implied_rate['impl_div0'].fillna(value=0)\n",
    "    df_implied_rate['impl_cdiv0'] = df_implied_rate['impl_cdiv0'].fillna(value=0)\n",
    "    df_implied_rate['Maturity'] = df_implied_rate['Expiration'] - df_implied_rate['Date']\n",
    "    df_implied_rate['Maturity'] = df_implied_rate['Maturity'].dt.days\n",
    "    df_out = df_input.merge(df_implied_rate[['Date', 'Expiration', 'impl_div0','impl_cdiv0']], on = ['Date', 'Expiration'], how = 'left')\n",
    "    df_out['impl_div0'] = df_out['impl_div0'].fillna(value=0)\n",
    "    df_out['impl_cdiv0'] = df_out['impl_cdiv0'].fillna(value=0)\n",
    "    return df_out"
   ]
  },
  {
   "cell_type": "code",
   "execution_count": 11,
   "id": "fb83c6dd-045b-449f-9d6a-924bb7694f92",
   "metadata": {},
   "outputs": [
    {
     "ename": "KeyError",
     "evalue": "\"['Expiration'] not in index\"",
     "output_type": "error",
     "traceback": [
      "\u001b[0;31m---------------------------------------------------------------------------\u001b[0m",
      "\u001b[0;31mKeyError\u001b[0m                                  Traceback (most recent call last)",
      "\u001b[0;32m<timed exec>\u001b[0m in \u001b[0;36m<module>\u001b[0;34m\u001b[0m\n",
      "\u001b[0;32m/tmp/ipykernel_93977/1910524575.py\u001b[0m in \u001b[0;36mcalc_syn_implied_div\u001b[0;34m(stkid, df_input)\u001b[0m\n\u001b[1;32m      5\u001b[0m     \u001b[0mdf_c\u001b[0m \u001b[0;34m=\u001b[0m \u001b[0mdf\u001b[0m\u001b[0;34m[\u001b[0m\u001b[0;34m(\u001b[0m\u001b[0mdf\u001b[0m\u001b[0;34m[\u001b[0m\u001b[0;34m'CallPut'\u001b[0m\u001b[0;34m]\u001b[0m \u001b[0;34m==\u001b[0m \u001b[0;34m'C'\u001b[0m\u001b[0;34m)\u001b[0m \u001b[0;34m&\u001b[0m \u001b[0;34m(\u001b[0m\u001b[0mdf\u001b[0m\u001b[0;34m[\u001b[0m\u001b[0;34m'IV0'\u001b[0m\u001b[0;34m]\u001b[0m \u001b[0;34m>=\u001b[0m\u001b[0;36m0.00001\u001b[0m\u001b[0;34m)\u001b[0m\u001b[0;34m]\u001b[0m\u001b[0;34m\u001b[0m\u001b[0;34m\u001b[0m\u001b[0m\n\u001b[1;32m      6\u001b[0m     \u001b[0mdf_p\u001b[0m \u001b[0;34m=\u001b[0m \u001b[0mdf\u001b[0m\u001b[0;34m[\u001b[0m\u001b[0;34m(\u001b[0m\u001b[0mdf\u001b[0m\u001b[0;34m[\u001b[0m\u001b[0;34m'CallPut'\u001b[0m\u001b[0;34m]\u001b[0m \u001b[0;34m==\u001b[0m \u001b[0;34m'P'\u001b[0m\u001b[0;34m)\u001b[0m \u001b[0;34m&\u001b[0m \u001b[0;34m(\u001b[0m\u001b[0mdf\u001b[0m\u001b[0;34m[\u001b[0m\u001b[0;34m'IV0'\u001b[0m\u001b[0;34m]\u001b[0m \u001b[0;34m>=\u001b[0m\u001b[0;36m0.00001\u001b[0m\u001b[0;34m)\u001b[0m\u001b[0;34m]\u001b[0m\u001b[0;34m\u001b[0m\u001b[0;34m\u001b[0m\u001b[0m\n\u001b[0;32m----> 7\u001b[0;31m     df_calc_rate = df_c[['Date', 'K', 'Expiration', 'V0', 'IV0']].merge(\n\u001b[0m\u001b[1;32m      8\u001b[0m                    \u001b[0mdf_p\u001b[0m\u001b[0;34m[\u001b[0m\u001b[0;34m[\u001b[0m\u001b[0;34m'Date'\u001b[0m\u001b[0;34m,\u001b[0m \u001b[0;34m'K'\u001b[0m\u001b[0;34m,\u001b[0m \u001b[0;34m'Expiration'\u001b[0m\u001b[0;34m,\u001b[0m \u001b[0;34m'V0'\u001b[0m\u001b[0;34m,\u001b[0m \u001b[0;34m'IV0'\u001b[0m\u001b[0;34m,\u001b[0m \u001b[0;34m'S0'\u001b[0m\u001b[0;34m,\u001b[0m \u001b[0;34m'Maturity'\u001b[0m\u001b[0;34m,\u001b[0m \u001b[0;34m'short_rate'\u001b[0m\u001b[0;34m,\u001b[0m \u001b[0;34m'r'\u001b[0m\u001b[0;34m]\u001b[0m\u001b[0;34m]\u001b[0m\u001b[0;34m,\u001b[0m \u001b[0mon\u001b[0m\u001b[0;34m=\u001b[0m\u001b[0;34m[\u001b[0m\u001b[0;34m'Date'\u001b[0m\u001b[0;34m,\u001b[0m \u001b[0;34m'K'\u001b[0m\u001b[0;34m,\u001b[0m \u001b[0;34m'Expiration'\u001b[0m\u001b[0;34m]\u001b[0m\u001b[0;34m,\u001b[0m\u001b[0;34m\u001b[0m\u001b[0;34m\u001b[0m\u001b[0m\n\u001b[1;32m      9\u001b[0m                    suffixes=['_C', '_P'])\n",
      "\u001b[0;32m~/anaconda3/lib/python3.9/site-packages/pandas/core/frame.py\u001b[0m in \u001b[0;36m__getitem__\u001b[0;34m(self, key)\u001b[0m\n\u001b[1;32m   3900\u001b[0m             \u001b[0;32mif\u001b[0m \u001b[0mis_iterator\u001b[0m\u001b[0;34m(\u001b[0m\u001b[0mkey\u001b[0m\u001b[0;34m)\u001b[0m\u001b[0;34m:\u001b[0m\u001b[0;34m\u001b[0m\u001b[0;34m\u001b[0m\u001b[0m\n\u001b[1;32m   3901\u001b[0m                 \u001b[0mkey\u001b[0m \u001b[0;34m=\u001b[0m \u001b[0mlist\u001b[0m\u001b[0;34m(\u001b[0m\u001b[0mkey\u001b[0m\u001b[0;34m)\u001b[0m\u001b[0;34m\u001b[0m\u001b[0;34m\u001b[0m\u001b[0m\n\u001b[0;32m-> 3902\u001b[0;31m             \u001b[0mindexer\u001b[0m \u001b[0;34m=\u001b[0m \u001b[0mself\u001b[0m\u001b[0;34m.\u001b[0m\u001b[0mcolumns\u001b[0m\u001b[0;34m.\u001b[0m\u001b[0m_get_indexer_strict\u001b[0m\u001b[0;34m(\u001b[0m\u001b[0mkey\u001b[0m\u001b[0;34m,\u001b[0m \u001b[0;34m\"columns\"\u001b[0m\u001b[0;34m)\u001b[0m\u001b[0;34m[\u001b[0m\u001b[0;36m1\u001b[0m\u001b[0;34m]\u001b[0m\u001b[0;34m\u001b[0m\u001b[0;34m\u001b[0m\u001b[0m\n\u001b[0m\u001b[1;32m   3903\u001b[0m \u001b[0;34m\u001b[0m\u001b[0m\n\u001b[1;32m   3904\u001b[0m         \u001b[0;31m# take() does not accept boolean indexers\u001b[0m\u001b[0;34m\u001b[0m\u001b[0;34m\u001b[0m\u001b[0m\n",
      "\u001b[0;32m~/anaconda3/lib/python3.9/site-packages/pandas/core/indexes/base.py\u001b[0m in \u001b[0;36m_get_indexer_strict\u001b[0;34m(self, key, axis_name)\u001b[0m\n\u001b[1;32m   6112\u001b[0m             \u001b[0mkeyarr\u001b[0m\u001b[0;34m,\u001b[0m \u001b[0mindexer\u001b[0m\u001b[0;34m,\u001b[0m \u001b[0mnew_indexer\u001b[0m \u001b[0;34m=\u001b[0m \u001b[0mself\u001b[0m\u001b[0;34m.\u001b[0m\u001b[0m_reindex_non_unique\u001b[0m\u001b[0;34m(\u001b[0m\u001b[0mkeyarr\u001b[0m\u001b[0;34m)\u001b[0m\u001b[0;34m\u001b[0m\u001b[0;34m\u001b[0m\u001b[0m\n\u001b[1;32m   6113\u001b[0m \u001b[0;34m\u001b[0m\u001b[0m\n\u001b[0;32m-> 6114\u001b[0;31m         \u001b[0mself\u001b[0m\u001b[0;34m.\u001b[0m\u001b[0m_raise_if_missing\u001b[0m\u001b[0;34m(\u001b[0m\u001b[0mkeyarr\u001b[0m\u001b[0;34m,\u001b[0m \u001b[0mindexer\u001b[0m\u001b[0;34m,\u001b[0m \u001b[0maxis_name\u001b[0m\u001b[0;34m)\u001b[0m\u001b[0;34m\u001b[0m\u001b[0;34m\u001b[0m\u001b[0m\n\u001b[0m\u001b[1;32m   6115\u001b[0m \u001b[0;34m\u001b[0m\u001b[0m\n\u001b[1;32m   6116\u001b[0m         \u001b[0mkeyarr\u001b[0m \u001b[0;34m=\u001b[0m \u001b[0mself\u001b[0m\u001b[0;34m.\u001b[0m\u001b[0mtake\u001b[0m\u001b[0;34m(\u001b[0m\u001b[0mindexer\u001b[0m\u001b[0;34m)\u001b[0m\u001b[0;34m\u001b[0m\u001b[0;34m\u001b[0m\u001b[0m\n",
      "\u001b[0;32m~/anaconda3/lib/python3.9/site-packages/pandas/core/indexes/base.py\u001b[0m in \u001b[0;36m_raise_if_missing\u001b[0;34m(self, key, indexer, axis_name)\u001b[0m\n\u001b[1;32m   6176\u001b[0m \u001b[0;34m\u001b[0m\u001b[0m\n\u001b[1;32m   6177\u001b[0m             \u001b[0mnot_found\u001b[0m \u001b[0;34m=\u001b[0m \u001b[0mlist\u001b[0m\u001b[0;34m(\u001b[0m\u001b[0mensure_index\u001b[0m\u001b[0;34m(\u001b[0m\u001b[0mkey\u001b[0m\u001b[0;34m)\u001b[0m\u001b[0;34m[\u001b[0m\u001b[0mmissing_mask\u001b[0m\u001b[0;34m.\u001b[0m\u001b[0mnonzero\u001b[0m\u001b[0;34m(\u001b[0m\u001b[0;34m)\u001b[0m\u001b[0;34m[\u001b[0m\u001b[0;36m0\u001b[0m\u001b[0;34m]\u001b[0m\u001b[0;34m]\u001b[0m\u001b[0;34m.\u001b[0m\u001b[0munique\u001b[0m\u001b[0;34m(\u001b[0m\u001b[0;34m)\u001b[0m\u001b[0;34m)\u001b[0m\u001b[0;34m\u001b[0m\u001b[0;34m\u001b[0m\u001b[0m\n\u001b[0;32m-> 6178\u001b[0;31m             \u001b[0;32mraise\u001b[0m \u001b[0mKeyError\u001b[0m\u001b[0;34m(\u001b[0m\u001b[0;34mf\"{not_found} not in index\"\u001b[0m\u001b[0;34m)\u001b[0m\u001b[0;34m\u001b[0m\u001b[0;34m\u001b[0m\u001b[0m\n\u001b[0m\u001b[1;32m   6179\u001b[0m \u001b[0;34m\u001b[0m\u001b[0m\n\u001b[1;32m   6180\u001b[0m     \u001b[0;34m@\u001b[0m\u001b[0moverload\u001b[0m\u001b[0;34m\u001b[0m\u001b[0;34m\u001b[0m\u001b[0m\n",
      "\u001b[0;31mKeyError\u001b[0m: \"['Expiration'] not in index\""
     ]
    }
   ],
   "source": [
    "%%time\n",
    "%run \"src/functions_greeks.py\"\n",
    "\n",
    "input_path = workdir + 'data/processed/tracer/'\n",
    "output_path = workdir + 'data/cleaned/tracer/'\n",
    "if not os.path.exists(output_path):\n",
    "    os.makedirs(output_path)\n",
    "\n",
    "if os.path.exists(input_path + 'df_' + str(stkid) + '.csv') == False:\n",
    "    print('Synthetic '+ str(stkid) + ' is not available')        \n",
    "elif os.path.exists(output_path + 'df_' + str(stkid) + '.csv') == True:\n",
    "    print('Synthetic '+ str(stkid) + ' exists already')        \n",
    "elif os.stat(input_path + 'df_' + str(stkid) + '.csv').st_size < 2:\n",
    "    print('Synthetic '+ str(stkid) + ' is not available')        \n",
    "else:  \n",
    "    df_ATM = pd.read_csv(input_path + 'df_' + str(stkid) + '.csv', parse_dates = ['Date'])\n",
    "    df_ATM = df_ATM.rename(columns = {'Strike': 'K', 'StockPrice': 'S0', 'interp_IV': 'IV0', 'interp_V': 'V0'})\n",
    "    df_ATM = merge_interest(df_ATM, df_rate)\n",
    "\n",
    "    ## calculate implied dividend\n",
    "    df_ATM_d = calc_syn_implied_div(stkid, df_ATM)\n",
    "    df_syn = pd.DataFrame()\n",
    "    for (callput, m), group in df_ATM_d.groupby(['CallPut', 'Maturity']):\n",
    "        df_ATM_dtmp = group.loc[(group['Maturity'] == m) & (group['CallPut'] == callput) , :].sort_values('Date')\n",
    "        df_ATM_dtmp['abs_impl_div0'] = np.abs(df_ATM_dtmp['impl_div0']) \n",
    "        df_ATM_dtmp['ma_impl_div0'] = df_ATM_dtmp[['Date', 'impl_div0']].rolling(m).mean()\n",
    "        df_ATM_dtmp['rel_impl_div0'] = df_ATM_dtmp['impl_div0'] / df_ATM_dtmp['ma_impl_div0']    \n",
    "        df_syn = pd.concat([df_syn, df_ATM_dtmp])\n",
    "    df_syn['tau'] = df_syn['Maturity'] / 360.\n",
    "\n",
    "    ## merge real dividend\n",
    "    df_dividend = read_dividend(stkid)\n",
    "    real_div = pd.DataFrame()\n",
    "    for row in df_dividend.index:\n",
    "        sdate = df_dividend.loc[row, 'DeclareDate']\n",
    "        edate = df_dividend.loc[row, 'ExDate']\n",
    "        div = df_dividend.loc[row, 'amount']\n",
    "        real_div_tmp = pd.DataFrame({'Date':pd.date_range(sdate,edate-datetime.timedelta(days=1),freq='d')})\n",
    "        real_div_tmp['real_div0'] = div\n",
    "        real_div = pd.concat([real_div, real_div_tmp])\n",
    "    if real_div.shape[0] == 0:\n",
    "        print('no real dividend')\n",
    "        df_syn['impl_cdiv0'] = 0\n",
    "        df_syn['real_div0'] = 0\n",
    "    else:\n",
    "        df_syn = df_syn.merge(real_div, how = 'left', on = ['Date']) \n",
    "        df_syn['real_div0'] = df_syn['real_div0'].fillna(value=0)\n",
    "\n",
    "    ## greeks:\n",
    "    ## delta\n",
    "    df_syn['delta_bs_impl_cdiv'] = bs_call_delta(vol=df_syn['IV0'], S=df_syn['S0'], K=df_syn['K'], tau=df_syn['tau'], r=df_syn['r'], q=df_syn['impl_cdiv0'])\n",
    "    df_syn['delta_bs_impl_cdiv_P'] = bs_put_delta(vol=df_syn['IV0'], S=df_syn['S0'], K=df_syn['K'], tau=df_syn['tau'], r=df_syn['r'], q=df_syn['impl_cdiv0'])\n",
    "    df_syn.loc[df_syn['CallPut'] == 'P', 'delta_bs_impl_cdiv'] = df_syn.loc[df_syn['CallPut'] == 'P','delta_bs_impl_cdiv_P']\n",
    "    del df_syn['delta_bs_impl_cdiv_P']\n",
    "\n",
    "    df_syn['delta_bs_real_div'] = bs_call_delta(vol=df_syn['IV0'], S=df_syn['S0'], K=df_syn['K'], tau=df_syn['tau'], r=df_syn['r'], q=df_syn['real_div0'])\n",
    "    df_syn['delta_bs_real_div_P'] = bs_put_delta(vol=df_syn['IV0'], S=df_syn['S0'], K=df_syn['K'], tau=df_syn['tau'], r=df_syn['r'], q=df_syn['real_div0'])\n",
    "    df_syn.loc[df_syn['CallPut'] == 'P', 'delta_bs_real_div'] = df_syn.loc[df_syn['CallPut'] == 'P','delta_bs_real_div_P']\n",
    "    del df_syn['delta_bs_real_div_P']\n",
    "\n",
    "    ## gamma\n",
    "    df_syn['gamma_bs_impl_cdiv'] = bs_gamma(vol=df_syn['IV0'], S=df_syn['S0'], K=df_syn['K'], tau=df_syn['tau'], r=df_syn['r'], q=df_syn['impl_cdiv0'])\n",
    "    df_syn['gamma_bs_real_div'] = bs_gamma(vol=df_syn['IV0'], S=df_syn['S0'], K=df_syn['K'], tau=df_syn['tau'], r=df_syn['r'], q=df_syn['real_div0'])\n",
    "\n",
    "    ## vega\n",
    "    df_syn['vega_bs_impl_cdiv'] = bs_vega(vol=df_syn['IV0'], S=df_syn['S0'], K=df_syn['K'], tau=df_syn['tau'], r=df_syn['r'], q=df_syn['impl_cdiv0'])\n",
    "    df_syn['vega_bs_real_div'] = bs_vega(vol=df_syn['IV0'], S=df_syn['S0'], K=df_syn['K'], tau=df_syn['tau'], r=df_syn['r'], q=df_syn['real_div0'])        \n",
    "\n",
    "    df_syn.to_csv(output_path + 'df_' + str(stkid) + '.csv', index = False)\n",
    "    print('Tracer '+ str(stkid) + ' done')"
   ]
  },
  {
   "cell_type": "code",
   "execution_count": null,
   "id": "c456ad2f-c82e-472a-8714-8cf5494c7514",
   "metadata": {},
   "outputs": [],
   "source": []
  },
  {
   "cell_type": "code",
   "execution_count": null,
   "id": "ddde0f83-794e-4654-850f-69c30f235a92",
   "metadata": {},
   "outputs": [],
   "source": []
  },
  {
   "cell_type": "code",
   "execution_count": null,
   "id": "45a3530b-eb4c-4e20-be60-c4280c82315d",
   "metadata": {},
   "outputs": [],
   "source": []
  },
  {
   "cell_type": "code",
   "execution_count": null,
   "id": "9afc2a04-e613-40de-949a-b16892fcfa8d",
   "metadata": {},
   "outputs": [],
   "source": []
  },
  {
   "cell_type": "code",
   "execution_count": null,
   "id": "c7352a52-006b-40a4-a139-9e0bf62b7d29",
   "metadata": {},
   "outputs": [],
   "source": []
  },
  {
   "cell_type": "code",
   "execution_count": null,
   "id": "52c35da8-b6fd-4752-acad-9838ccba40dc",
   "metadata": {},
   "outputs": [],
   "source": []
  },
  {
   "cell_type": "code",
   "execution_count": null,
   "id": "081d8323-3e43-4cdd-afc7-887ee958ffc4",
   "metadata": {},
   "outputs": [],
   "source": []
  }
 ],
 "metadata": {
  "kernelspec": {
   "display_name": "Python 3",
   "language": "python",
   "name": "python3"
  },
  "language_info": {
   "codemirror_mode": {
    "name": "ipython",
    "version": 3
   },
   "file_extension": ".py",
   "mimetype": "text/x-python",
   "name": "python",
   "nbconvert_exporter": "python",
   "pygments_lexer": "ipython3",
   "version": "3.9.7"
  }
 },
 "nbformat": 4,
 "nbformat_minor": 5
}
